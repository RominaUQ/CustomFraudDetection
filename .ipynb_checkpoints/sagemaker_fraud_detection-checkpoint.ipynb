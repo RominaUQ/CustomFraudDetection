{
 "cells": [
  {
   "cell_type": "markdown",
   "metadata": {},
   "source": [
    "# Credit card fraud detector"
   ]
  },
  {
   "cell_type": "markdown",
   "metadata": {},
   "source": [
    "In this solution we will build the core of a credit card fraud detection system using SageMaker. We will start by training an anomaly detection algorithm, then proceed to train two XGBoost models for supervised training. To deal with the highly unbalanced data common in fraud detection, our first model will use re-weighting of the data, and the second will use re-sampling, using the popular SMOTE technique for oversampling the rare fraud data.\n",
    "\n",
    "Our solution includes an example of making calls to a REST API to simulate a real deployment, using AWS Lambda to trigger both the anomaly detection and XGBoost model."
   ]
  },
  {
   "cell_type": "markdown",
   "metadata": {},
   "source": [
    "### Set up environment"
   ]
  },
  {
   "cell_type": "code",
   "execution_count": 98,
   "metadata": {},
   "outputs": [
    {
     "name": "stdout",
     "output_type": "stream",
     "text": [
      "Traceback (most recent call last):\n",
      "  File \"../env_setup.py\", line 191, in <module>\n",
      "    env_setup()\n",
      "  File \"../env_setup.py\", line 89, in env_setup\n",
      "    sagemaker_mode = get_sagemaker_mode()\n",
      "  File \"../env_setup.py\", line 20, in get_sagemaker_mode\n",
      "    with open(stack_outputs_file) as f:\n",
      "FileNotFoundError: [Errno 2] No such file or directory: '/home/ec2-user/SageMaker/fraud-detection-using-machine-learning/source/stack_outputs.json'\n"
     ]
    }
   ],
   "source": [
    "!python ../env_setup.py"
   ]
  },
  {
   "cell_type": "code",
   "execution_count": 126,
   "metadata": {},
   "outputs": [],
   "source": [
    "import sys\n",
    "sys.path.append('./src/')"
   ]
  },
  {
   "cell_type": "code",
   "execution_count": 127,
   "metadata": {},
   "outputs": [],
   "source": [
    "# import libraries\n",
    "import boto3, re, sys, math, json, os, sagemaker, urllib.request\n",
    "from sagemaker import get_execution_role\n",
    "import numpy as np\n",
    "import pandas as pd\n",
    "import datetime\n",
    "import matplotlib.pyplot as plt\n",
    "#from pandas_profiling import ProfileReport"
   ]
  },
  {
   "cell_type": "code",
   "execution_count": 135,
   "metadata": {},
   "outputs": [
    {
     "name": "stdout",
     "output_type": "stream",
     "text": [
      "download: s3://bucketfraud/creditcard_reduced.csv to ./creditcard_reduced.csv\n"
     ]
    }
   ],
   "source": [
    "!aws s3 cp 's3://bucketfraud/creditcard_reduced.csv' 'creditcard_reduced.csv'\n",
    "#!aws s3 cp 's3://carsales-time-to-sale-poc/dealer_supply_changes.csv' 'dealer_supply_changes.csv'\n",
    "# !aws s3 cp 's3://carsales-time-to-sale-poc/specification.csv' 'specification.csv'\n",
    "# !aws s3 cp 's3://carsales-time-to-sale-poc/dealer_supply_inventory.csv' 'dealer_supply_inventory.csv'"
   ]
  },
  {
   "cell_type": "markdown",
   "metadata": {},
   "source": [
    "## Investigate and process the data"
   ]
  },
  {
   "cell_type": "markdown",
   "metadata": {},
   "source": [
    "Let's start by reading in the credit card fraud data set."
   ]
  },
  {
   "cell_type": "code",
   "execution_count": 136,
   "metadata": {},
   "outputs": [
    {
     "data": {
      "text/html": [
       "<div>\n",
       "<style scoped>\n",
       "    .dataframe tbody tr th:only-of-type {\n",
       "        vertical-align: middle;\n",
       "    }\n",
       "\n",
       "    .dataframe tbody tr th {\n",
       "        vertical-align: top;\n",
       "    }\n",
       "\n",
       "    .dataframe thead th {\n",
       "        text-align: right;\n",
       "    }\n",
       "</style>\n",
       "<table border=\"1\" class=\"dataframe\">\n",
       "  <thead>\n",
       "    <tr style=\"text-align: right;\">\n",
       "      <th></th>\n",
       "      <th>time</th>\n",
       "      <th>v_a</th>\n",
       "      <th>v_b</th>\n",
       "      <th>v_c</th>\n",
       "      <th>v_d</th>\n",
       "      <th>v_e</th>\n",
       "      <th>amount</th>\n",
       "      <th>class</th>\n",
       "    </tr>\n",
       "  </thead>\n",
       "  <tbody>\n",
       "    <tr>\n",
       "      <th>0</th>\n",
       "      <td>0.0</td>\n",
       "      <td>-1.359807</td>\n",
       "      <td>-0.072781</td>\n",
       "      <td>2.536347</td>\n",
       "      <td>1.378155</td>\n",
       "      <td>-0.338321</td>\n",
       "      <td>149.62</td>\n",
       "      <td>0</td>\n",
       "    </tr>\n",
       "    <tr>\n",
       "      <th>1</th>\n",
       "      <td>0.0</td>\n",
       "      <td>1.191857</td>\n",
       "      <td>0.266151</td>\n",
       "      <td>0.166480</td>\n",
       "      <td>0.448154</td>\n",
       "      <td>0.060018</td>\n",
       "      <td>2.69</td>\n",
       "      <td>0</td>\n",
       "    </tr>\n",
       "    <tr>\n",
       "      <th>2</th>\n",
       "      <td>1.0</td>\n",
       "      <td>-1.358354</td>\n",
       "      <td>-1.340163</td>\n",
       "      <td>1.773209</td>\n",
       "      <td>0.379780</td>\n",
       "      <td>-0.503198</td>\n",
       "      <td>378.66</td>\n",
       "      <td>0</td>\n",
       "    </tr>\n",
       "    <tr>\n",
       "      <th>3</th>\n",
       "      <td>1.0</td>\n",
       "      <td>-0.966272</td>\n",
       "      <td>-0.185226</td>\n",
       "      <td>1.792993</td>\n",
       "      <td>-0.863291</td>\n",
       "      <td>-0.010309</td>\n",
       "      <td>123.50</td>\n",
       "      <td>0</td>\n",
       "    </tr>\n",
       "    <tr>\n",
       "      <th>4</th>\n",
       "      <td>2.0</td>\n",
       "      <td>-1.158233</td>\n",
       "      <td>0.877737</td>\n",
       "      <td>1.548718</td>\n",
       "      <td>0.403034</td>\n",
       "      <td>-0.407193</td>\n",
       "      <td>69.99</td>\n",
       "      <td>0</td>\n",
       "    </tr>\n",
       "  </tbody>\n",
       "</table>\n",
       "</div>"
      ],
      "text/plain": [
       "   time       v_a       v_b       v_c       v_d       v_e  amount  class\n",
       "0   0.0 -1.359807 -0.072781  2.536347  1.378155 -0.338321  149.62      0\n",
       "1   0.0  1.191857  0.266151  0.166480  0.448154  0.060018    2.69      0\n",
       "2   1.0 -1.358354 -1.340163  1.773209  0.379780 -0.503198  378.66      0\n",
       "3   1.0 -0.966272 -0.185226  1.792993 -0.863291 -0.010309  123.50      0\n",
       "4   2.0 -1.158233  0.877737  1.548718  0.403034 -0.407193   69.99      0"
      ]
     },
     "execution_count": 136,
     "metadata": {},
     "output_type": "execute_result"
    }
   ],
   "source": [
    "data = pd.read_csv('creditcard.csv', delimiter=',')\n",
    "data.head()"
   ]
  },
  {
   "cell_type": "markdown",
   "metadata": {},
   "source": [
    "Let's take a peek at our data (we only show a subset of the columns in the table):"
   ]
  },
  {
   "cell_type": "code",
   "execution_count": 137,
   "metadata": {},
   "outputs": [
    {
     "name": "stdout",
     "output_type": "stream",
     "text": [
      "Index(['time', 'v_a', 'v_b', 'v_c', 'v_d', 'v_e', 'amount', 'class'], dtype='object')\n"
     ]
    }
   ],
   "source": [
    "print(data.columns)\n",
    "#data[['Time', 'V1', 'V2', 'V27', 'V28', 'Amount', 'Class']].describe()"
   ]
  },
  {
   "cell_type": "markdown",
   "metadata": {},
   "source": [
    "The dataset contains\n",
    "only numerical features, because the original features have been transformed for confidentiality using PCA. As a result,\n",
    "the dataset contains 28 PCA components, V1-V28, and two features that haven't been transformed, _Amount_ and _Time_.\n",
    "_Amount_ refers to the transaction amount, and _Time_ is the seconds elapsed between any transaction in the data\n",
    "and the first transaction.\n",
    "\n",
    "The class column corresponds to whether or not a transaction is fraudulent. We see that the majority of data is non-fraudulent with only $492$ ($0.173\\%$) of the data corresponding to fraudulent examples, out of the total of 284,807 examples in the data."
   ]
  },
  {
   "cell_type": "code",
   "execution_count": 172,
   "metadata": {},
   "outputs": [
    {
     "name": "stdout",
     "output_type": "stream",
     "text": [
      "Number of frauds:  492\n",
      "Number of non-frauds:  284315\n",
      "Percentage of fradulent data: 0.1727485630620034\n"
     ]
    }
   ],
   "source": [
    "nonfrauds, frauds = data.groupby('class').size()\n",
    "print('Number of frauds: ', frauds)\n",
    "print('Number of non-frauds: ', nonfrauds)\n",
    "print('Percentage of fradulent data:', 100.*frauds/(frauds + nonfrauds))"
   ]
  },
  {
   "cell_type": "markdown",
   "metadata": {},
   "source": [
    "We already know that the columns $V_i$ have been normalized to have $0$ mean and unit standard deviation as the result of a PCA."
   ]
  },
  {
   "cell_type": "code",
   "execution_count": 108,
   "metadata": {},
   "outputs": [
    {
     "name": "stdout",
     "output_type": "stream",
     "text": [
      "Index(['time', 'v_a', 'v_b', 'v_c', 'v_d', 'v_e', 'amount'], dtype='object')\n"
     ]
    }
   ],
   "source": [
    "feature_columns = data.columns[:-1]\n",
    "\n",
    "print(feature_columns)\n",
    "label_column = data.columns[-1]\n",
    "\n",
    "features = data[feature_columns].values.astype('float32')\n",
    "labels = (data[label_column].values).astype('float32')"
   ]
  },
  {
   "cell_type": "markdown",
   "metadata": {},
   "source": [
    "Next, we will prepare our data for loading and training."
   ]
  },
  {
   "cell_type": "markdown",
   "metadata": {},
   "source": [
    "## Training"
   ]
  },
  {
   "cell_type": "markdown",
   "metadata": {},
   "source": [
    "We will split our dataset into a train and test to evaluate the performance of our models. It's important to do so _before_ any techniques meant to alleviate the class imbalance are used. This ensures that we don't leak information from the test set into the train set."
   ]
  },
  {
   "cell_type": "code",
   "execution_count": 188,
   "metadata": {},
   "outputs": [
    {
     "data": {
      "text/plain": [
       "99999"
      ]
     },
     "execution_count": 188,
     "metadata": {},
     "output_type": "execute_result"
    }
   ],
   "source": [
    "from sklearn.model_selection import train_test_split\n",
    "\n",
    "X_train, X_test, y_train, y_test = train_test_split(\n",
    "    features, labels, test_size=0.35111, random_state=42)\n",
    "len(X_test)"
   ]
  },
  {
   "cell_type": "markdown",
   "metadata": {},
   "source": [
    "> Note: If you are bringing your own data to this solution and they include categorical data, that have strings as values, you'd need to one-hot encode these values first using for example sklearn's [OneHotEncoder](https://scikit-learn.org/stable/modules/preprocessing.html#preprocessing-categorical-features), as XGBoost only supports numerical data."
   ]
  },
  {
   "cell_type": "markdown",
   "metadata": {},
   "source": [
    "## Unsupervised Learning"
   ]
  },
  {
   "cell_type": "markdown",
   "metadata": {},
   "source": [
    "In a fraud detection scenario, commonly we will have very few labeled examples, and it's possible that labeling fraud takes a very long time. We would like then to extract information from the unlabeled data we have at hand as well. _Anomaly detection_ is a form of unsupervised learning where we try to identify anomalous examples based solely on their feature characteristics. Random Cut Forest is a state-of-the-art anomaly detection algorithm that is both accurate and scalable. We will train such a model on our training data and evaluate its performance on our test set."
   ]
  },
  {
   "cell_type": "code",
   "execution_count": 189,
   "metadata": {},
   "outputs": [
    {
     "name": "stdout",
     "output_type": "stream",
     "text": [
      "s3://bucketfraud/fraud-classifier/output\n"
     ]
    }
   ],
   "source": [
    "import boto3\n",
    "import os\n",
    "import sagemaker\n",
    "from sagemaker import get_execution_role\n",
    "#from package import config\n",
    "\n",
    "session = sagemaker.Session()\n",
    "#bucket = config.MODEL_DATA_S3_BUCKET\n",
    "bucket='bucketfraud'\n",
    "prefix = 'fraud-classifier'\n",
    "\n",
    "output_path='s3://{}/{}/output'.format(bucket, prefix)\n",
    "print(output_path)"
   ]
  },
  {
   "cell_type": "code",
   "execution_count": 190,
   "metadata": {},
   "outputs": [
    {
     "name": "stderr",
     "output_type": "stream",
     "text": [
      "train_instance_count has been renamed in sagemaker>=2.\n",
      "See: https://sagemaker.readthedocs.io/en/stable/v2.html for details.\n",
      "train_instance_type has been renamed in sagemaker>=2.\n",
      "See: https://sagemaker.readthedocs.io/en/stable/v2.html for details.\n"
     ]
    }
   ],
   "source": [
    "from sagemaker import RandomCutForest\n",
    "\n",
    "# specify general training job information\n",
    "rcf = RandomCutForest(role=get_execution_role(),\n",
    "                      train_instance_count=1,\n",
    "                      train_instance_type='ml.c4.xlarge',\n",
    "                      data_location='s3://bucketfraud/creditcard.csv',\n",
    "                      output_path='s3://{}/{}/output'.format(bucket, prefix),\n",
    "                      #base_job_name=\"{}-rcf\".format(config.SOLUTION_PREFIX),\n",
    "                      num_samples_per_tree=512,\n",
    "                      num_trees=50)"
   ]
  },
  {
   "cell_type": "markdown",
   "metadata": {
    "pycharm": {
     "name": "#%% md\n"
    }
   },
   "source": [
    "Now we are ready to fit the model. The below cell should take around 5 minutes to complete."
   ]
  },
  {
   "cell_type": "code",
   "execution_count": 112,
   "metadata": {
    "pycharm": {
     "name": "#%%\n"
    }
   },
   "outputs": [
    {
     "name": "stderr",
     "output_type": "stream",
     "text": [
      "Defaulting to the only supported framework/algorithm version: 1. Ignoring framework/algorithm version: 1.\n",
      "Defaulting to the only supported framework/algorithm version: 1. Ignoring framework/algorithm version: 1.\n"
     ]
    },
    {
     "name": "stdout",
     "output_type": "stream",
     "text": [
      "2020-12-16 00:43:09 Starting - Starting the training job...\n",
      "2020-12-16 00:43:12 Starting - Launching requested ML instancesProfilerReport-1608079389: InProgress\n",
      "......\n",
      "2020-12-16 00:44:38 Starting - Preparing the instances for training.........\n",
      "2020-12-16 00:46:07 Downloading - Downloading input data\n",
      "2020-12-16 00:46:07 Training - Downloading the training image.....\u001b[34mDocker entrypoint called with argument(s): train\u001b[0m\n",
      "\u001b[34mRunning default environment configuration script\u001b[0m\n",
      "\u001b[34m/opt/amazon/lib/python2.7/site-packages/scipy/_lib/_numpy_compat.py:10: DeprecationWarning: Importing from numpy.testing.nosetester is deprecated, import from numpy.testing instead.\n",
      "  from numpy.testing.nosetester import import_nose\u001b[0m\n",
      "\u001b[34m/opt/amazon/lib/python2.7/site-packages/scipy/stats/morestats.py:12: DeprecationWarning: Importing from numpy.testing.decorators is deprecated, import from numpy.testing instead.\n",
      "  from numpy.testing.decorators import setastest\u001b[0m\n",
      "\u001b[34m[12/16/2020 00:46:50 INFO 140636981483328] Reading default configuration from /opt/amazon/lib/python2.7/site-packages/algorithm/resources/default-conf.json: {u'_ftp_port': 8999, u'num_samples_per_tree': 256, u'_tuning_objective_metric': u'', u'_num_gpus': u'auto', u'_log_level': u'info', u'_kvstore': u'dist_async', u'force_dense': u'true', u'epochs': 1, u'num_trees': 100, u'eval_metrics': [u'accuracy', u'precision_recall_fscore'], u'_num_kv_servers': u'auto', u'mini_batch_size': 1000}\u001b[0m\n",
      "\u001b[34m[12/16/2020 00:46:50 INFO 140636981483328] Merging with provided configuration from /opt/ml/input/config/hyperparameters.json: {u'mini_batch_size': u'1000', u'feature_dim': u'7', u'num_samples_per_tree': u'512', u'num_trees': u'50'}\u001b[0m\n",
      "\u001b[34m[12/16/2020 00:46:50 INFO 140636981483328] Final configuration: {u'_ftp_port': 8999, u'num_samples_per_tree': u'512', u'_tuning_objective_metric': u'', u'_num_gpus': u'auto', u'_log_level': u'info', u'_kvstore': u'dist_async', u'force_dense': u'true', u'epochs': 1, u'feature_dim': u'7', u'num_trees': u'50', u'eval_metrics': [u'accuracy', u'precision_recall_fscore'], u'_num_kv_servers': u'auto', u'mini_batch_size': u'1000'}\u001b[0m\n",
      "\u001b[34m[12/16/2020 00:46:50 WARNING 140636981483328] Loggers have already been setup.\u001b[0m\n",
      "\u001b[34m[12/16/2020 00:46:50 INFO 140636981483328] Launching parameter server for role scheduler\u001b[0m\n",
      "\u001b[34m[12/16/2020 00:46:50 INFO 140636981483328] {'ECS_CONTAINER_METADATA_URI': 'http://169.254.170.2/v3/7fe2d8ee-0884-4a69-b542-afe43662e76b', 'ECS_CONTAINER_METADATA_URI_V4': 'http://169.254.170.2/v4/7fe2d8ee-0884-4a69-b542-afe43662e76b', 'PROTOCOL_BUFFERS_PYTHON_IMPLEMENTATION_VERSION': '2', 'PATH': '/opt/amazon/bin:/usr/local/nvidia/bin:/usr/local/sbin:/usr/local/bin:/usr/sbin:/usr/bin:/sbin:/bin:/opt/amazon/bin:/opt/amazon/bin', 'SAGEMAKER_HTTP_PORT': '8080', 'HOME': '/root', 'PYTHONUNBUFFERED': 'TRUE', 'CANONICAL_ENVROOT': '/opt/amazon', 'LD_LIBRARY_PATH': '/opt/amazon/lib/python2.7/site-packages/cv2/../../../../lib:/usr/local/nvidia/lib64:/opt/amazon/lib', 'MXNET_KVSTORE_BIGARRAY_BOUND': '400000000', 'LANG': 'en_US.utf8', 'DMLC_INTERFACE': 'eth0', 'SHLVL': '1', 'AWS_REGION': 'ap-southeast-2', 'SAGEMAKER_METRICS_DIRECTORY': '/opt/ml/output/metrics/sagemaker', 'NVIDIA_VISIBLE_DEVICES': 'void', 'TRAINING_JOB_NAME': 'randomcutforest-2020-12-16-00-43-09-665', 'PROTOCOL_BUFFERS_PYTHON_IMPLEMENTATION': 'cpp', 'ENVROOT': '/opt/amazon', 'SAGEMAKER_DATA_PATH': '/opt/ml', 'NVIDIA_DRIVER_CAPABILITIES': 'compute,utility', 'NVIDIA_REQUIRE_CUDA': 'cuda>=9.0', 'OMP_NUM_THREADS': '2', 'HOSTNAME': 'ip-10-0-134-154.ap-southeast-2.compute.internal', 'AWS_CONTAINER_CREDENTIALS_RELATIVE_URI': '/v2/credentials/0d0243b4-417f-46be-8d01-60ec384109a5', 'PWD': '/', 'TRAINING_JOB_ARN': 'arn:aws:sagemaker:ap-southeast-2:571660658801:training-job/randomcutforest-2020-12-16-00-43-09-665', 'AWS_EXECUTION_ENV': 'AWS_ECS_EC2'}\u001b[0m\n",
      "\u001b[34m[12/16/2020 00:46:50 INFO 140636981483328] envs={'ECS_CONTAINER_METADATA_URI': 'http://169.254.170.2/v3/7fe2d8ee-0884-4a69-b542-afe43662e76b', 'ECS_CONTAINER_METADATA_URI_V4': 'http://169.254.170.2/v4/7fe2d8ee-0884-4a69-b542-afe43662e76b', 'PROTOCOL_BUFFERS_PYTHON_IMPLEMENTATION_VERSION': '2', 'DMLC_NUM_WORKER': '1', 'DMLC_PS_ROOT_PORT': '9000', 'PATH': '/opt/amazon/bin:/usr/local/nvidia/bin:/usr/local/sbin:/usr/local/bin:/usr/sbin:/usr/bin:/sbin:/bin:/opt/amazon/bin:/opt/amazon/bin', 'SAGEMAKER_HTTP_PORT': '8080', 'HOME': '/root', 'PYTHONUNBUFFERED': 'TRUE', 'CANONICAL_ENVROOT': '/opt/amazon', 'LD_LIBRARY_PATH': '/opt/amazon/lib/python2.7/site-packages/cv2/../../../../lib:/usr/local/nvidia/lib64:/opt/amazon/lib', 'MXNET_KVSTORE_BIGARRAY_BOUND': '400000000', 'LANG': 'en_US.utf8', 'DMLC_INTERFACE': 'eth0', 'SHLVL': '1', 'DMLC_PS_ROOT_URI': '10.0.134.154', 'AWS_REGION': 'ap-southeast-2', 'SAGEMAKER_METRICS_DIRECTORY': '/opt/ml/output/metrics/sagemaker', 'NVIDIA_VISIBLE_DEVICES': 'void', 'TRAINING_JOB_NAME': 'randomcutforest-2020-12-16-00-43-09-665', 'PROTOCOL_BUFFERS_PYTHON_IMPLEMENTATION': 'cpp', 'ENVROOT': '/opt/amazon', 'SAGEMAKER_DATA_PATH': '/opt/ml', 'NVIDIA_DRIVER_CAPABILITIES': 'compute,utility', 'NVIDIA_REQUIRE_CUDA': 'cuda>=9.0', 'OMP_NUM_THREADS': '2', 'HOSTNAME': 'ip-10-0-134-154.ap-southeast-2.compute.internal', 'AWS_CONTAINER_CREDENTIALS_RELATIVE_URI': '/v2/credentials/0d0243b4-417f-46be-8d01-60ec384109a5', 'DMLC_ROLE': 'scheduler', 'PWD': '/', 'DMLC_NUM_SERVER': '1', 'TRAINING_JOB_ARN': 'arn:aws:sagemaker:ap-southeast-2:571660658801:training-job/randomcutforest-2020-12-16-00-43-09-665', 'AWS_EXECUTION_ENV': 'AWS_ECS_EC2'}\u001b[0m\n",
      "\u001b[34m[12/16/2020 00:46:50 INFO 140636981483328] Launching parameter server for role server\u001b[0m\n",
      "\u001b[34m[12/16/2020 00:46:50 INFO 140636981483328] {'ECS_CONTAINER_METADATA_URI': 'http://169.254.170.2/v3/7fe2d8ee-0884-4a69-b542-afe43662e76b', 'ECS_CONTAINER_METADATA_URI_V4': 'http://169.254.170.2/v4/7fe2d8ee-0884-4a69-b542-afe43662e76b', 'PROTOCOL_BUFFERS_PYTHON_IMPLEMENTATION_VERSION': '2', 'PATH': '/opt/amazon/bin:/usr/local/nvidia/bin:/usr/local/sbin:/usr/local/bin:/usr/sbin:/usr/bin:/sbin:/bin:/opt/amazon/bin:/opt/amazon/bin', 'SAGEMAKER_HTTP_PORT': '8080', 'HOME': '/root', 'PYTHONUNBUFFERED': 'TRUE', 'CANONICAL_ENVROOT': '/opt/amazon', 'LD_LIBRARY_PATH': '/opt/amazon/lib/python2.7/site-packages/cv2/../../../../lib:/usr/local/nvidia/lib64:/opt/amazon/lib', 'MXNET_KVSTORE_BIGARRAY_BOUND': '400000000', 'LANG': 'en_US.utf8', 'DMLC_INTERFACE': 'eth0', 'SHLVL': '1', 'AWS_REGION': 'ap-southeast-2', 'SAGEMAKER_METRICS_DIRECTORY': '/opt/ml/output/metrics/sagemaker', 'NVIDIA_VISIBLE_DEVICES': 'void', 'TRAINING_JOB_NAME': 'randomcutforest-2020-12-16-00-43-09-665', 'PROTOCOL_BUFFERS_PYTHON_IMPLEMENTATION': 'cpp', 'ENVROOT': '/opt/amazon', 'SAGEMAKER_DATA_PATH': '/opt/ml', 'NVIDIA_DRIVER_CAPABILITIES': 'compute,utility', 'NVIDIA_REQUIRE_CUDA': 'cuda>=9.0', 'OMP_NUM_THREADS': '2', 'HOSTNAME': 'ip-10-0-134-154.ap-southeast-2.compute.internal', 'AWS_CONTAINER_CREDENTIALS_RELATIVE_URI': '/v2/credentials/0d0243b4-417f-46be-8d01-60ec384109a5', 'PWD': '/', 'TRAINING_JOB_ARN': 'arn:aws:sagemaker:ap-southeast-2:571660658801:training-job/randomcutforest-2020-12-16-00-43-09-665', 'AWS_EXECUTION_ENV': 'AWS_ECS_EC2'}\u001b[0m\n",
      "\u001b[34m[12/16/2020 00:46:50 INFO 140636981483328] envs={'ECS_CONTAINER_METADATA_URI': 'http://169.254.170.2/v3/7fe2d8ee-0884-4a69-b542-afe43662e76b', 'ECS_CONTAINER_METADATA_URI_V4': 'http://169.254.170.2/v4/7fe2d8ee-0884-4a69-b542-afe43662e76b', 'PROTOCOL_BUFFERS_PYTHON_IMPLEMENTATION_VERSION': '2', 'DMLC_NUM_WORKER': '1', 'DMLC_PS_ROOT_PORT': '9000', 'PATH': '/opt/amazon/bin:/usr/local/nvidia/bin:/usr/local/sbin:/usr/local/bin:/usr/sbin:/usr/bin:/sbin:/bin:/opt/amazon/bin:/opt/amazon/bin', 'SAGEMAKER_HTTP_PORT': '8080', 'HOME': '/root', 'PYTHONUNBUFFERED': 'TRUE', 'CANONICAL_ENVROOT': '/opt/amazon', 'LD_LIBRARY_PATH': '/opt/amazon/lib/python2.7/site-packages/cv2/../../../../lib:/usr/local/nvidia/lib64:/opt/amazon/lib', 'MXNET_KVSTORE_BIGARRAY_BOUND': '400000000', 'LANG': 'en_US.utf8', 'DMLC_INTERFACE': 'eth0', 'SHLVL': '1', 'DMLC_PS_ROOT_URI': '10.0.134.154', 'AWS_REGION': 'ap-southeast-2', 'SAGEMAKER_METRICS_DIRECTORY': '/opt/ml/output/metrics/sagemaker', 'NVIDIA_VISIBLE_DEVICES': 'void', 'TRAINING_JOB_NAME': 'randomcutforest-2020-12-16-00-43-09-665', 'PROTOCOL_BUFFERS_PYTHON_IMPLEMENTATION': 'cpp', 'ENVROOT': '/opt/amazon', 'SAGEMAKER_DATA_PATH': '/opt/ml', 'NVIDIA_DRIVER_CAPABILITIES': 'compute,utility', 'NVIDIA_REQUIRE_CUDA': 'cuda>=9.0', 'OMP_NUM_THREADS': '2', 'HOSTNAME': 'ip-10-0-134-154.ap-southeast-2.compute.internal', 'AWS_CONTAINER_CREDENTIALS_RELATIVE_URI': '/v2/credentials/0d0243b4-417f-46be-8d01-60ec384109a5', 'DMLC_ROLE': 'server', 'PWD': '/', 'DMLC_NUM_SERVER': '1', 'TRAINING_JOB_ARN': 'arn:aws:sagemaker:ap-southeast-2:571660658801:training-job/randomcutforest-2020-12-16-00-43-09-665', 'AWS_EXECUTION_ENV': 'AWS_ECS_EC2'}\u001b[0m\n",
      "\u001b[34m[12/16/2020 00:46:50 INFO 140636981483328] Environment: {'ECS_CONTAINER_METADATA_URI': 'http://169.254.170.2/v3/7fe2d8ee-0884-4a69-b542-afe43662e76b', 'ECS_CONTAINER_METADATA_URI_V4': 'http://169.254.170.2/v4/7fe2d8ee-0884-4a69-b542-afe43662e76b', 'PROTOCOL_BUFFERS_PYTHON_IMPLEMENTATION_VERSION': '2', 'DMLC_PS_ROOT_PORT': '9000', 'DMLC_NUM_WORKER': '1', 'SAGEMAKER_HTTP_PORT': '8080', 'PATH': '/opt/amazon/bin:/usr/local/nvidia/bin:/usr/local/sbin:/usr/local/bin:/usr/sbin:/usr/bin:/sbin:/bin:/opt/amazon/bin:/opt/amazon/bin', 'PYTHONUNBUFFERED': 'TRUE', 'CANONICAL_ENVROOT': '/opt/amazon', 'LD_LIBRARY_PATH': '/opt/amazon/lib/python2.7/site-packages/cv2/../../../../lib:/usr/local/nvidia/lib64:/opt/amazon/lib', 'MXNET_KVSTORE_BIGARRAY_BOUND': '400000000', 'LANG': 'en_US.utf8', 'DMLC_INTERFACE': 'eth0', 'SHLVL': '1', 'DMLC_PS_ROOT_URI': '10.0.134.154', 'AWS_REGION': 'ap-southeast-2', 'SAGEMAKER_METRICS_DIRECTORY': '/opt/ml/output/metrics/sagemaker', 'NVIDIA_VISIBLE_DEVICES': 'void', 'TRAINING_JOB_NAME': 'randomcutforest-2020-12-16-00-43-09-665', 'HOME': '/root', 'PROTOCOL_BUFFERS_PYTHON_IMPLEMENTATION': 'cpp', 'ENVROOT': '/opt/amazon', 'SAGEMAKER_DATA_PATH': '/opt/ml', 'NVIDIA_DRIVER_CAPABILITIES': 'compute,utility', 'NVIDIA_REQUIRE_CUDA': 'cuda>=9.0', 'OMP_NUM_THREADS': '2', 'HOSTNAME': 'ip-10-0-134-154.ap-southeast-2.compute.internal', 'AWS_CONTAINER_CREDENTIALS_RELATIVE_URI': '/v2/credentials/0d0243b4-417f-46be-8d01-60ec384109a5', 'DMLC_ROLE': 'worker', 'PWD': '/', 'DMLC_NUM_SERVER': '1', 'TRAINING_JOB_ARN': 'arn:aws:sagemaker:ap-southeast-2:571660658801:training-job/randomcutforest-2020-12-16-00-43-09-665', 'AWS_EXECUTION_ENV': 'AWS_ECS_EC2'}\u001b[0m\n",
      "\u001b[34mProcess 32 is a shell:scheduler.\u001b[0m\n",
      "\u001b[34mProcess 33 is a shell:server.\u001b[0m\n",
      "\u001b[34mProcess 1 is a worker.\u001b[0m\n",
      "\u001b[34m[12/16/2020 00:46:50 INFO 140636981483328] Using default worker.\u001b[0m\n",
      "\u001b[34m[12/16/2020 00:46:50 INFO 140636981483328] Loaded iterator creator application/x-recordio-protobuf for content type ('application/x-recordio-protobuf', '1.0')\u001b[0m\n",
      "\u001b[34m[12/16/2020 00:46:50 INFO 140636981483328] Checkpoint loading and saving are disabled.\u001b[0m\n",
      "\u001b[34m[12/16/2020 00:46:50 INFO 140636981483328] Verifying hyperparamemters...\u001b[0m\n",
      "\u001b[34m[12/16/2020 00:46:50 INFO 140636981483328] Hyperparameters are correct.\u001b[0m\n",
      "\u001b[34m[12/16/2020 00:46:50 INFO 140636981483328] Validating that feature_dim agrees with dimensions in training data...\u001b[0m\n",
      "\u001b[34m[12/16/2020 00:46:50 INFO 140636981483328] feature_dim is correct.\u001b[0m\n",
      "\u001b[34m[12/16/2020 00:46:50 INFO 140636981483328] Validating memory limits...\u001b[0m\n",
      "\u001b[34m[12/16/2020 00:46:50 INFO 140636981483328] Available memory in bytes: 6288416768\u001b[0m\n",
      "\u001b[34m[12/16/2020 00:46:50 INFO 140636981483328] Estimated sample size in bytes: 1433600\u001b[0m\n",
      "\u001b[34m[12/16/2020 00:46:50 INFO 140636981483328] Estimated memory needed to build the forest in bytes: 7168000\u001b[0m\n",
      "\u001b[34m[12/16/2020 00:46:50 INFO 140636981483328] Memory limits validated.\u001b[0m\n",
      "\u001b[34m[12/16/2020 00:46:50 INFO 140636981483328] Starting cluster sharing facilities...\u001b[0m\n",
      "\u001b[34m[I 20-12-16 00:46:50] >>> starting FTP server on 0.0.0.0:8999, pid=1 <<<\u001b[0m\n",
      "\u001b[34m[12/16/2020 00:46:50 INFO 140636981483328] Create Store: dist_async\u001b[0m\n",
      "\u001b[34m[12/16/2020 00:46:50 INFO 140635508025088] >>> starting FTP server on 0.0.0.0:8999, pid=1 <<<\u001b[0m\n",
      "\u001b[34m[I 20-12-16 00:46:50] poller: <class 'pyftpdlib.ioloop.Epoll'>\u001b[0m\n",
      "\u001b[34m[12/16/2020 00:46:50 INFO 140635508025088] poller: <class 'pyftpdlib.ioloop.Epoll'>\u001b[0m\n",
      "\u001b[34m[I 20-12-16 00:46:50] masquerade (NAT) address: None\u001b[0m\n",
      "\u001b[34m[12/16/2020 00:46:50 INFO 140635508025088] masquerade (NAT) address: None\u001b[0m\n",
      "\u001b[34m[I 20-12-16 00:46:50] passive ports: None\u001b[0m\n",
      "\u001b[34m[I 20-12-16 00:46:50] use sendfile(2): False\u001b[0m\n",
      "\u001b[34m[12/16/2020 00:46:50 INFO 140635508025088] passive ports: None\u001b[0m\n",
      "\u001b[34m[12/16/2020 00:46:50 INFO 140635508025088] use sendfile(2): False\u001b[0m\n",
      "\u001b[34m[12/16/2020 00:46:51 INFO 140636981483328] Cluster sharing facilities started.\u001b[0m\n",
      "\u001b[34m[12/16/2020 00:46:51 INFO 140636981483328] Verifying all workers are accessible...\u001b[0m\n",
      "\u001b[34m[12/16/2020 00:46:51 INFO 140636981483328] All workers accessible.\u001b[0m\n",
      "\u001b[34m[12/16/2020 00:46:51 INFO 140636981483328] Initializing Sampler...\u001b[0m\n",
      "\u001b[34m[12/16/2020 00:46:51 INFO 140636981483328] Sampler correctly initialized.\u001b[0m\n",
      "\u001b[34m#metrics {\"Metrics\": {\"initialize.time\": {\"count\": 1, \"max\": 669.780969619751, \"sum\": 669.780969619751, \"min\": 669.780969619751}}, \"EndTime\": 1608079611.188751, \"Dimensions\": {\"Host\": \"algo-1\", \"Operation\": \"training\", \"Algorithm\": \"RandomCutForest\"}, \"StartTime\": 1608079610.506055}\n",
      "\u001b[0m\n",
      "\u001b[34m#metrics {\"Metrics\": {\"Max Batches Seen Between Resets\": {\"count\": 1, \"max\": 0, \"sum\": 0.0, \"min\": 0}, \"Number of Batches Since Last Reset\": {\"count\": 1, \"max\": 0, \"sum\": 0.0, \"min\": 0}, \"Number of Records Since Last Reset\": {\"count\": 1, \"max\": 0, \"sum\": 0.0, \"min\": 0}, \"Total Batches Seen\": {\"count\": 1, \"max\": 0, \"sum\": 0.0, \"min\": 0}, \"Total Records Seen\": {\"count\": 1, \"max\": 0, \"sum\": 0.0, \"min\": 0}, \"Max Records Seen Between Resets\": {\"count\": 1, \"max\": 0, \"sum\": 0.0, \"min\": 0}, \"Reset Count\": {\"count\": 1, \"max\": 0, \"sum\": 0.0, \"min\": 0}}, \"EndTime\": 1608079611.188992, \"Dimensions\": {\"Host\": \"algo-1\", \"Meta\": \"init_train_data_iter\", \"Operation\": \"training\", \"Algorithm\": \"RandomCutForest\"}, \"StartTime\": 1608079611.188941}\n",
      "\u001b[0m\n",
      "\u001b[34m[2020-12-16 00:46:51.189] [tensorio] [info] epoch_stats={\"data_pipeline\": \"/opt/ml/input/data/train\", \"epoch\": 0, \"duration\": 682, \"num_examples\": 1, \"num_bytes\": 52000}\u001b[0m\n",
      "\u001b[34m[12/16/2020 00:46:51 INFO 140636981483328] Sampling training data...\u001b[0m\n",
      "\u001b[34m[2020-12-16 00:46:51.561] [tensorio] [info] epoch_stats={\"data_pipeline\": \"/opt/ml/input/data/train\", \"epoch\": 1, \"duration\": 371, \"num_examples\": 257, \"num_bytes\": 13328952}\u001b[0m\n",
      "\u001b[34m[12/16/2020 00:46:51 INFO 140636981483328] Sampling training data completed.\u001b[0m\n",
      "\u001b[34m#metrics {\"Metrics\": {\"epochs\": {\"count\": 1, \"max\": 1, \"sum\": 1.0, \"min\": 1}, \"update.time\": {\"count\": 1, \"max\": 382.51709938049316, \"sum\": 382.51709938049316, \"min\": 382.51709938049316}}, \"EndTime\": 1608079611.572016, \"Dimensions\": {\"Host\": \"algo-1\", \"Operation\": \"training\", \"Algorithm\": \"RandomCutForest\"}, \"StartTime\": 1608079611.18887}\n",
      "\u001b[0m\n",
      "\u001b[34m[12/16/2020 00:46:51 INFO 140636981483328] Early stop condition met. Stopping training.\u001b[0m\n",
      "\u001b[34m[12/16/2020 00:46:51 INFO 140636981483328] #progress_metric: host=algo-1, completed 100 % epochs\u001b[0m\n",
      "\u001b[34m#metrics {\"Metrics\": {\"Max Batches Seen Between Resets\": {\"count\": 1, \"max\": 257, \"sum\": 257.0, \"min\": 257}, \"Number of Batches Since Last Reset\": {\"count\": 1, \"max\": 257, \"sum\": 257.0, \"min\": 257}, \"Number of Records Since Last Reset\": {\"count\": 1, \"max\": 256326, \"sum\": 256326.0, \"min\": 256326}, \"Total Batches Seen\": {\"count\": 1, \"max\": 257, \"sum\": 257.0, \"min\": 257}, \"Total Records Seen\": {\"count\": 1, \"max\": 256326, \"sum\": 256326.0, \"min\": 256326}, \"Max Records Seen Between Resets\": {\"count\": 1, \"max\": 256326, \"sum\": 256326.0, \"min\": 256326}, \"Reset Count\": {\"count\": 1, \"max\": 1, \"sum\": 1.0, \"min\": 1}}, \"EndTime\": 1608079611.572523, \"Dimensions\": {\"Host\": \"algo-1\", \"Meta\": \"training_data_iter\", \"Operation\": \"training\", \"Algorithm\": \"RandomCutForest\", \"epoch\": 0}, \"StartTime\": 1608079611.189434}\n",
      "\u001b[0m\n",
      "\u001b[34m[12/16/2020 00:46:51 INFO 140636981483328] #throughput_metric: host=algo-1, train throughput=668879.760139 records/second\u001b[0m\n",
      "\u001b[34m[12/16/2020 00:46:51 INFO 140636981483328] Master node: building Random Cut Forest...\u001b[0m\n",
      "\u001b[34m[12/16/2020 00:46:51 INFO 140636981483328] Gathering samples...\u001b[0m\n",
      "\u001b[34m[12/16/2020 00:46:51 INFO 140636981483328] 25600 samples gathered\u001b[0m\n",
      "\u001b[34m[12/16/2020 00:46:51 INFO 140636981483328] Building Random Cut Forest...\u001b[0m\n",
      "\u001b[34m[12/16/2020 00:46:51 INFO 140636981483328] Random Cut Forest built: \n",
      "\u001b[0m\n",
      "\u001b[34mForestInfo{num_trees: 50, num_samples_in_forest: 25600, num_samples_per_tree: 512, sample_dim: 7, shingle_size: 1, trees_num_nodes: [953, 919, 941, 955, 961, 907, 941, 929, 923, 913, 935, 921, 933, 939, 931, 943, 919, 941, 943, 929, 945, 935, 941, 915, 925, 917, 925, 933, 921, 917, 941, 925, 923, 929, 925, 937, 925, 939, 945, 921, 939, 923, 925, 921, 933, 915, 929, 945, 921, 929, ], trees_depth: [20, 20, 23, 18, 26, 20, 23, 21, 24, 23, 21, 20, 21, 22, 22, 19, 20, 21, 20, 22, 22, 26, 19, 21, 27, 27, 25, 23, 22, 21, 21, 18, 21, 23, 23, 21, 22, 19, 20, 20, 22, 20, 20, 21, 19, 19, 22, 25, 23, 22, ], max_num_nodes: 961, min_num_nodes: 907, avg_num_nodes: 930, max_tree_depth: 27, min_tree_depth: 18, avg_tree_depth: 21, mem_size: 9308448}\u001b[0m\n",
      "\u001b[34m#metrics {\"Metrics\": {\"finalize.time\": {\"count\": 1, \"max\": 61.10095977783203, \"sum\": 61.10095977783203, \"min\": 61.10095977783203}, \"model.bytes\": {\"count\": 1, \"max\": 9308448, \"sum\": 9308448.0, \"min\": 9308448}, \"fit_model.time\": {\"count\": 1, \"max\": 28.41496467590332, \"sum\": 28.41496467590332, \"min\": 28.41496467590332}}, \"EndTime\": 1608079611.633922, \"Dimensions\": {\"Host\": \"algo-1\", \"Operation\": \"training\", \"Algorithm\": \"RandomCutForest\"}, \"StartTime\": 1608079611.572164}\n",
      "\u001b[0m\n",
      "\u001b[34m[12/16/2020 00:46:51 INFO 140636981483328] Master node: Serializing the RandomCutForest model\u001b[0m\n",
      "\u001b[34m#metrics {\"Metrics\": {\"serialize_model.time\": {\"count\": 1, \"max\": 165.43817520141602, \"sum\": 165.43817520141602, \"min\": 165.43817520141602}}, \"EndTime\": 1608079611.799508, \"Dimensions\": {\"Host\": \"algo-1\", \"Operation\": \"training\", \"Algorithm\": \"RandomCutForest\"}, \"StartTime\": 1608079611.634009}\n",
      "\u001b[0m\n",
      "\u001b[34m[12/16/2020 00:46:51 INFO 140636981483328] Test data is not provided.\u001b[0m\n",
      "\u001b[34m[I 20-12-16 00:46:51] >>> shutting down FTP server (0 active fds) <<<\u001b[0m\n",
      "\u001b[34m[12/16/2020 00:46:51 INFO 140635508025088] >>> shutting down FTP server (0 active fds) <<<\u001b[0m\n",
      "\u001b[34m#metrics {\"Metrics\": {\"totaltime\": {\"count\": 1, \"max\": 1429.203987121582, \"sum\": 1429.203987121582, \"min\": 1429.203987121582}, \"setuptime\": {\"count\": 1, \"max\": 20.039081573486328, \"sum\": 20.039081573486328, \"min\": 20.039081573486328}}, \"EndTime\": 1608079611.90655, \"Dimensions\": {\"Host\": \"algo-1\", \"Operation\": \"training\", \"Algorithm\": \"RandomCutForest\"}, \"StartTime\": 1608079611.799604}\n",
      "\u001b[0m\n",
      "\n",
      "2020-12-16 00:47:08 Uploading - Uploading generated training model\n",
      "2020-12-16 00:47:08 Completed - Training job completed\n",
      "Training seconds: 74\n",
      "Billable seconds: 74\n"
     ]
    }
   ],
   "source": [
    "rcf.fit(rcf.record_set(X_train))"
   ]
  },
  {
   "cell_type": "raw",
   "metadata": {},
   "source": [
    "### Host Random Cut Forest"
   ]
  },
  {
   "cell_type": "markdown",
   "metadata": {
    "pycharm": {
     "name": "#%% md\n"
    }
   },
   "source": [
    "Once we have a trained model we can deploy it and get some predictions for our test set. SageMaker will spin up an instance for us and deploy the model, the whole process should take around 10 minutes, you will see progress being made with each `-` and an exclamation point when the process is finished."
   ]
  },
  {
   "cell_type": "code",
   "execution_count": 113,
   "metadata": {},
   "outputs": [
    {
     "name": "stdout",
     "output_type": "stream",
     "text": [
      "Requirement already up-to-date: sagemaker in /home/ec2-user/anaconda3/envs/python3/lib/python3.6/site-packages (2.19.0)\n",
      "Requirement already satisfied, skipping upgrade: google-pasta in /home/ec2-user/anaconda3/envs/python3/lib/python3.6/site-packages (from sagemaker) (0.2.0)\n",
      "Requirement already satisfied, skipping upgrade: numpy>=1.9.0 in /home/ec2-user/anaconda3/envs/python3/lib/python3.6/site-packages (from sagemaker) (1.18.1)\n",
      "Requirement already satisfied, skipping upgrade: boto3>=1.16.32 in /home/ec2-user/anaconda3/envs/python3/lib/python3.6/site-packages (from sagemaker) (1.16.37)\n",
      "Requirement already satisfied, skipping upgrade: smdebug-rulesconfig>=1.0.0 in /home/ec2-user/anaconda3/envs/python3/lib/python3.6/site-packages (from sagemaker) (1.0.0)\n",
      "Requirement already satisfied, skipping upgrade: importlib-metadata>=1.4.0 in /home/ec2-user/anaconda3/envs/python3/lib/python3.6/site-packages (from sagemaker) (1.5.0)\n",
      "Requirement already satisfied, skipping upgrade: protobuf>=3.1 in /home/ec2-user/anaconda3/envs/python3/lib/python3.6/site-packages (from sagemaker) (3.11.4)\n",
      "Requirement already satisfied, skipping upgrade: packaging>=20.0 in /home/ec2-user/anaconda3/envs/python3/lib/python3.6/site-packages (from sagemaker) (20.1)\n",
      "Requirement already satisfied, skipping upgrade: attrs in /home/ec2-user/anaconda3/envs/python3/lib/python3.6/site-packages (from sagemaker) (19.3.0)\n",
      "Requirement already satisfied, skipping upgrade: protobuf3-to-dict>=0.1.5 in /home/ec2-user/anaconda3/envs/python3/lib/python3.6/site-packages (from sagemaker) (0.1.5)\n",
      "Requirement already satisfied, skipping upgrade: six in /home/ec2-user/anaconda3/envs/python3/lib/python3.6/site-packages (from google-pasta->sagemaker) (1.14.0)\n",
      "Requirement already satisfied, skipping upgrade: jmespath<1.0.0,>=0.7.1 in /home/ec2-user/anaconda3/envs/python3/lib/python3.6/site-packages (from boto3>=1.16.32->sagemaker) (0.10.0)\n",
      "Requirement already satisfied, skipping upgrade: botocore<1.20.0,>=1.19.37 in /home/ec2-user/anaconda3/envs/python3/lib/python3.6/site-packages (from boto3>=1.16.32->sagemaker) (1.19.37)\n",
      "Requirement already satisfied, skipping upgrade: s3transfer<0.4.0,>=0.3.0 in /home/ec2-user/anaconda3/envs/python3/lib/python3.6/site-packages (from boto3>=1.16.32->sagemaker) (0.3.3)\n",
      "Requirement already satisfied, skipping upgrade: zipp>=0.5 in /home/ec2-user/anaconda3/envs/python3/lib/python3.6/site-packages (from importlib-metadata>=1.4.0->sagemaker) (2.2.0)\n",
      "Requirement already satisfied, skipping upgrade: setuptools in /home/ec2-user/anaconda3/envs/python3/lib/python3.6/site-packages (from protobuf>=3.1->sagemaker) (45.2.0.post20200210)\n",
      "Requirement already satisfied, skipping upgrade: pyparsing>=2.0.2 in /home/ec2-user/anaconda3/envs/python3/lib/python3.6/site-packages (from packaging>=20.0->sagemaker) (2.4.6)\n",
      "Requirement already satisfied, skipping upgrade: urllib3<1.27,>=1.25.4; python_version != \"3.4\" in /home/ec2-user/anaconda3/envs/python3/lib/python3.6/site-packages (from botocore<1.20.0,>=1.19.37->boto3>=1.16.32->sagemaker) (1.25.10)\n",
      "Requirement already satisfied, skipping upgrade: python-dateutil<3.0.0,>=2.1 in /home/ec2-user/anaconda3/envs/python3/lib/python3.6/site-packages (from botocore<1.20.0,>=1.19.37->boto3>=1.16.32->sagemaker) (2.8.1)\n",
      "\u001b[33mWARNING: You are using pip version 20.0.2; however, version 20.3.3 is available.\n",
      "You should consider upgrading via the '/home/ec2-user/anaconda3/envs/python3/bin/python -m pip install --upgrade pip' command.\u001b[0m\n",
      "Note: you may need to restart the kernel to use updated packages.\n"
     ]
    }
   ],
   "source": [
    "#pip install --upgrade sagemaker"
   ]
  },
  {
   "cell_type": "code",
   "execution_count": 114,
   "metadata": {},
   "outputs": [
    {
     "name": "stderr",
     "output_type": "stream",
     "text": [
      "Defaulting to the only supported framework/algorithm version: 1. Ignoring framework/algorithm version: 1.\n"
     ]
    },
    {
     "name": "stdout",
     "output_type": "stream",
     "text": [
      "---------------!"
     ]
    }
   ],
   "source": [
    "rcf_predictor = rcf.deploy(\n",
    "    #model_name=\"{}-rcf\".format('model'),\n",
    "    #endpoint_name=\"{}-rcf\".format(rcf_inference.endpoint),\n",
    "    initial_instance_count=1,\n",
    "    instance_type='ml.c4.xlarge',\n",
    "    serializer=csv_serializer,\n",
    "    deserializer=json_deserializer\n",
    ")"
   ]
  },
  {
   "cell_type": "code",
   "execution_count": 115,
   "metadata": {
    "pycharm": {
     "name": "#%%\n"
    },
    "scrolled": true
   },
   "outputs": [],
   "source": [
    "from sagemaker.serializers import CSVSerializer\n",
    "from sagemaker.deserializers import JSONDeserializer\n",
    "\n",
    "rcf_predictor.serializer = CSVSerializer()\n",
    "# rcf_predictor.accept = 'application/json'\n",
    "rcf_predictor.deserializer = JSONDeserializer()"
   ]
  },
  {
   "cell_type": "markdown",
   "metadata": {},
   "source": [
    "### Test Random Cut Forest"
   ]
  },
  {
   "cell_type": "markdown",
   "metadata": {
    "pycharm": {
     "name": "#%% md\n"
    }
   },
   "source": [
    "With the model deployed, let's see how it performs in terms of separating fraudulent from legitimate transactions."
   ]
  },
  {
   "cell_type": "code",
   "execution_count": 116,
   "metadata": {},
   "outputs": [],
   "source": [
    "def predict_rcf(current_predictor, data, rows=500):\n",
    "    split_array = np.array_split(data, int(data.shape[0] / float(rows) + 1))\n",
    "    predictions = []\n",
    "    for array in split_array:\n",
    "        array_preds = [s['score'] for s in current_predictor.predict(array)['scores']]\n",
    "        predictions.append(array_preds)\n",
    "\n",
    "    return np.concatenate([np.array(batch) for batch in predictions])"
   ]
  },
  {
   "cell_type": "code",
   "execution_count": 242,
   "metadata": {},
   "outputs": [
    {
     "ename": "ModelError",
     "evalue": "An error occurred (ModelError) when calling the InvokeEndpoint operation: Received client error (413) from model with message \"<!DOCTYPE HTML PUBLIC \"-//W3C//DTD HTML 3.2 Final//EN\">\n<title>413 Request Entity Too Large</title>\n<h1>Request Entity Too Large</h1>\n<p>The data value transmitted exceeds the capacity limit.</p>\n\". See https://ap-southeast-2.console.aws.amazon.com/cloudwatch/home?region=ap-southeast-2#logEventViewer:group=/aws/sagemaker/Endpoints/randomcutforest-2020-12-16-00-47-24-987 in account 571660658801 for more information.",
     "output_type": "error",
     "traceback": [
      "\u001b[0;31m---------------------------------------------------------------------------\u001b[0m",
      "\u001b[0;31mModelError\u001b[0m                                Traceback (most recent call last)",
      "\u001b[0;32m<ipython-input-242-fdcf0391d6d0>\u001b[0m in \u001b[0;36m<module>\u001b[0;34m\u001b[0m\n\u001b[0;32m----> 1\u001b[0;31m \u001b[0mrcf_predictor\u001b[0m\u001b[0;34m.\u001b[0m\u001b[0mpredict\u001b[0m\u001b[0;34m(\u001b[0m\u001b[0mX_test\u001b[0m\u001b[0;34m)\u001b[0m\u001b[0;34m\u001b[0m\u001b[0;34m\u001b[0m\u001b[0m\n\u001b[0m",
      "\u001b[0;32m~/anaconda3/envs/python3/lib/python3.6/site-packages/sagemaker/predictor.py\u001b[0m in \u001b[0;36mpredict\u001b[0;34m(self, data, initial_args, target_model, target_variant)\u001b[0m\n\u001b[1;32m    123\u001b[0m \u001b[0;34m\u001b[0m\u001b[0m\n\u001b[1;32m    124\u001b[0m         \u001b[0mrequest_args\u001b[0m \u001b[0;34m=\u001b[0m \u001b[0mself\u001b[0m\u001b[0;34m.\u001b[0m\u001b[0m_create_request_args\u001b[0m\u001b[0;34m(\u001b[0m\u001b[0mdata\u001b[0m\u001b[0;34m,\u001b[0m \u001b[0minitial_args\u001b[0m\u001b[0;34m,\u001b[0m \u001b[0mtarget_model\u001b[0m\u001b[0;34m,\u001b[0m \u001b[0mtarget_variant\u001b[0m\u001b[0;34m)\u001b[0m\u001b[0;34m\u001b[0m\u001b[0;34m\u001b[0m\u001b[0m\n\u001b[0;32m--> 125\u001b[0;31m         \u001b[0mresponse\u001b[0m \u001b[0;34m=\u001b[0m \u001b[0mself\u001b[0m\u001b[0;34m.\u001b[0m\u001b[0msagemaker_session\u001b[0m\u001b[0;34m.\u001b[0m\u001b[0msagemaker_runtime_client\u001b[0m\u001b[0;34m.\u001b[0m\u001b[0minvoke_endpoint\u001b[0m\u001b[0;34m(\u001b[0m\u001b[0;34m**\u001b[0m\u001b[0mrequest_args\u001b[0m\u001b[0;34m)\u001b[0m\u001b[0;34m\u001b[0m\u001b[0;34m\u001b[0m\u001b[0m\n\u001b[0m\u001b[1;32m    126\u001b[0m         \u001b[0;32mreturn\u001b[0m \u001b[0mself\u001b[0m\u001b[0;34m.\u001b[0m\u001b[0m_handle_response\u001b[0m\u001b[0;34m(\u001b[0m\u001b[0mresponse\u001b[0m\u001b[0;34m)\u001b[0m\u001b[0;34m\u001b[0m\u001b[0;34m\u001b[0m\u001b[0m\n\u001b[1;32m    127\u001b[0m \u001b[0;34m\u001b[0m\u001b[0m\n",
      "\u001b[0;32m~/anaconda3/envs/python3/lib/python3.6/site-packages/botocore/client.py\u001b[0m in \u001b[0;36m_api_call\u001b[0;34m(self, *args, **kwargs)\u001b[0m\n\u001b[1;32m    355\u001b[0m                     \"%s() only accepts keyword arguments.\" % py_operation_name)\n\u001b[1;32m    356\u001b[0m             \u001b[0;31m# The \"self\" in this scope is referring to the BaseClient.\u001b[0m\u001b[0;34m\u001b[0m\u001b[0;34m\u001b[0m\u001b[0;34m\u001b[0m\u001b[0m\n\u001b[0;32m--> 357\u001b[0;31m             \u001b[0;32mreturn\u001b[0m \u001b[0mself\u001b[0m\u001b[0;34m.\u001b[0m\u001b[0m_make_api_call\u001b[0m\u001b[0;34m(\u001b[0m\u001b[0moperation_name\u001b[0m\u001b[0;34m,\u001b[0m \u001b[0mkwargs\u001b[0m\u001b[0;34m)\u001b[0m\u001b[0;34m\u001b[0m\u001b[0;34m\u001b[0m\u001b[0m\n\u001b[0m\u001b[1;32m    358\u001b[0m \u001b[0;34m\u001b[0m\u001b[0m\n\u001b[1;32m    359\u001b[0m         \u001b[0m_api_call\u001b[0m\u001b[0;34m.\u001b[0m\u001b[0m__name__\u001b[0m \u001b[0;34m=\u001b[0m \u001b[0mstr\u001b[0m\u001b[0;34m(\u001b[0m\u001b[0mpy_operation_name\u001b[0m\u001b[0;34m)\u001b[0m\u001b[0;34m\u001b[0m\u001b[0;34m\u001b[0m\u001b[0m\n",
      "\u001b[0;32m~/anaconda3/envs/python3/lib/python3.6/site-packages/botocore/client.py\u001b[0m in \u001b[0;36m_make_api_call\u001b[0;34m(self, operation_name, api_params)\u001b[0m\n\u001b[1;32m    674\u001b[0m             \u001b[0merror_code\u001b[0m \u001b[0;34m=\u001b[0m \u001b[0mparsed_response\u001b[0m\u001b[0;34m.\u001b[0m\u001b[0mget\u001b[0m\u001b[0;34m(\u001b[0m\u001b[0;34m\"Error\"\u001b[0m\u001b[0;34m,\u001b[0m \u001b[0;34m{\u001b[0m\u001b[0;34m}\u001b[0m\u001b[0;34m)\u001b[0m\u001b[0;34m.\u001b[0m\u001b[0mget\u001b[0m\u001b[0;34m(\u001b[0m\u001b[0;34m\"Code\"\u001b[0m\u001b[0;34m)\u001b[0m\u001b[0;34m\u001b[0m\u001b[0;34m\u001b[0m\u001b[0m\n\u001b[1;32m    675\u001b[0m             \u001b[0merror_class\u001b[0m \u001b[0;34m=\u001b[0m \u001b[0mself\u001b[0m\u001b[0;34m.\u001b[0m\u001b[0mexceptions\u001b[0m\u001b[0;34m.\u001b[0m\u001b[0mfrom_code\u001b[0m\u001b[0;34m(\u001b[0m\u001b[0merror_code\u001b[0m\u001b[0;34m)\u001b[0m\u001b[0;34m\u001b[0m\u001b[0;34m\u001b[0m\u001b[0m\n\u001b[0;32m--> 676\u001b[0;31m             \u001b[0;32mraise\u001b[0m \u001b[0merror_class\u001b[0m\u001b[0;34m(\u001b[0m\u001b[0mparsed_response\u001b[0m\u001b[0;34m,\u001b[0m \u001b[0moperation_name\u001b[0m\u001b[0;34m)\u001b[0m\u001b[0;34m\u001b[0m\u001b[0;34m\u001b[0m\u001b[0m\n\u001b[0m\u001b[1;32m    677\u001b[0m         \u001b[0;32melse\u001b[0m\u001b[0;34m:\u001b[0m\u001b[0;34m\u001b[0m\u001b[0;34m\u001b[0m\u001b[0m\n\u001b[1;32m    678\u001b[0m             \u001b[0;32mreturn\u001b[0m \u001b[0mparsed_response\u001b[0m\u001b[0;34m\u001b[0m\u001b[0;34m\u001b[0m\u001b[0m\n",
      "\u001b[0;31mModelError\u001b[0m: An error occurred (ModelError) when calling the InvokeEndpoint operation: Received client error (413) from model with message \"<!DOCTYPE HTML PUBLIC \"-//W3C//DTD HTML 3.2 Final//EN\">\n<title>413 Request Entity Too Large</title>\n<h1>Request Entity Too Large</h1>\n<p>The data value transmitted exceeds the capacity limit.</p>\n\". See https://ap-southeast-2.console.aws.amazon.com/cloudwatch/home?region=ap-southeast-2#logEventViewer:group=/aws/sagemaker/Endpoints/randomcutforest-2020-12-16-00-47-24-987 in account 571660658801 for more information."
     ]
    }
   ],
   "source": [
    "rcf_predictor.predict(X_test[1])"
   ]
  },
  {
   "cell_type": "code",
   "execution_count": 118,
   "metadata": {},
   "outputs": [],
   "source": [
    "a=predict_rcf(rcf_predictor, X_test)\n"
   ]
  },
  {
   "cell_type": "code",
   "execution_count": 119,
   "metadata": {},
   "outputs": [
    {
     "data": {
      "text/plain": [
       "57"
      ]
     },
     "execution_count": 119,
     "metadata": {},
     "output_type": "execute_result"
    }
   ],
   "source": [
    "#def predict_rcf(crcf_predictor, X_test):\n",
    "split_array = np.array_split(X_test, int(X_test.shape[0] / float(500) + 1))\n",
    "\n",
    "#print(split_array)\n",
    "len(split_array)"
   ]
  },
  {
   "cell_type": "code",
   "execution_count": 120,
   "metadata": {},
   "outputs": [
    {
     "name": "stdout",
     "output_type": "stream",
     "text": [
      "[[ 4.1505000e+04 -1.6526506e+01  8.5849714e+00 -1.8649853e+01\n",
      "   9.5055933e+00 -1.3793818e+01  3.6419000e+02]\n",
      " [ 7.4262000e+04 -2.2505348e+00  2.3657548e+00 -2.9554911e+00\n",
      "   8.9790598e-02 -2.8307445e+00  3.1128000e+02]\n",
      " [ 1.4030800e+05 -4.8617468e+00 -2.7226603e+00 -4.6562481e+00\n",
      "   2.5020046e+00 -2.0083463e+00  5.9290002e+02]\n",
      " [ 1.5430900e+05 -8.2983464e-02 -3.9359188e+00 -2.6167090e+00\n",
      "   1.6331008e-01 -1.4009519e+00  1.0969900e+03]\n",
      " [ 8.7883000e+04 -1.3602927e+00 -4.5806897e-01 -7.0040393e-01\n",
      "   2.7372291e+00 -1.0051060e+00  8.2940997e+02]\n",
      " [ 5.6887000e+04 -7.5483464e-02  1.8123546e+00 -2.5669808e+00\n",
      "   4.1275487e+00 -1.6285316e+00  5.0000000e+00]\n",
      " [ 2.7252000e+04 -2.5942434e+01  1.4601998e+01 -2.7368650e+01\n",
      "   6.3783946e+00 -1.9104033e+01  9.9989998e+01]\n",
      " [ 1.6003400e+05 -2.3493400e+00  1.5126040e+00 -2.6474972e+00\n",
      "   1.7537925e+00  4.0632796e-01  4.9000001e+00]\n",
      " [ 1.6935100e+05 -6.7614269e-01  1.1263660e+00 -2.2136996e+00\n",
      "   4.6830839e-01 -1.1205411e+00  7.7889999e+01]\n",
      " [ 5.9385000e+04 -7.6269240e+00 -6.9764199e+00 -2.0779111e+00\n",
      "   3.4167542e+00  4.4587584e+00  1.8980000e+01]\n",
      " [ 5.5311000e+04 -6.1596069e+00  1.4687129e+00 -6.8508883e+00\n",
      "   5.1747065e+00 -2.9867039e+00  8.2999998e-01]\n",
      " [ 1.3531400e+05 -3.1589897e+00  1.7654517e+00 -3.3901680e+00\n",
      "   9.8740995e-01 -1.5099304e+00  8.4279999e+01]\n",
      " [ 7.7202000e+04 -3.5632616e-01  1.4353051e+00 -8.1356394e-01\n",
      "   1.9931172e+00  2.0558774e+00  1.0000000e+00]\n",
      " [ 7.0828000e+04  1.9670676e-01  1.1897572e+00  7.0488220e-01\n",
      "   2.8913877e+00  4.5555368e-02  7.5999999e-01]\n",
      " [ 1.2851900e+05 -4.5994468e+00  2.7625399e+00 -4.6565299e+00\n",
      "   5.2014031e+00 -2.4703877e+00  9.3349998e+01]\n",
      " [ 8.5181000e+04 -3.0034595e+00  2.0961504e+00 -4.8703036e-01\n",
      "   3.0694532e+00 -1.7743287e+00  2.0000000e+00]\n",
      " [ 1.3981600e+05 -3.9558217e-01 -7.5179207e-01 -1.9846658e+00\n",
      "  -2.0345937e-01  1.9039671e+00  6.9000000e-01]\n",
      " [ 4.1870000e+04 -2.0906908e+01  9.8431530e+00 -1.9947725e+01\n",
      "   6.1557884e+00 -1.5142014e+01  1.0000000e+00]\n",
      " [ 6.8207000e+04 -1.3192671e+01  1.2785971e+01 -9.9066496e+00\n",
      "   3.3203368e+00 -4.8011761e+00  1.0000000e+00]\n",
      " [ 1.4602600e+05  1.8940363e+00  1.9058061e+00 -3.5157301e+00\n",
      "   4.5089130e+00  2.0444663e+00  2.2200000e+00]\n",
      " [ 1.4923600e+05 -1.3709757e+00 -2.5464613e-02 -2.7749069e+00\n",
      "   2.6505301e+00  4.5113091e+00  1.0000000e+00]\n",
      " [ 4.1181000e+04 -7.3343410e+00  4.9608922e+00 -8.4514093e+00\n",
      "   8.1748247e+00 -7.2374640e+00  1.1380000e+01]\n",
      " [ 9.3920000e+04 -1.2381048e+01  8.2130222e+00 -1.6962530e+01\n",
      "   7.1160908e+00 -9.7728262e+00  9.7000000e+01]\n",
      " [ 9.4362000e+04 -2.6457745e+01  1.6497473e+01 -3.0177317e+01\n",
      "   8.9041567e+00 -1.7892599e+01  1.0000000e+00]\n",
      " [ 7.1033000e+04 -3.1708183e+00  1.8573456e-01 -3.3998516e+00\n",
      "   3.7611554e+00 -2.1480470e+00  4.2639999e+02]\n",
      " [ 1.4847900e+05 -1.5416785e+00  3.8467996e+00 -7.6041141e+00\n",
      "   3.1214585e+00 -1.2549242e+00  1.2268000e+02]\n",
      " [ 5.2814000e+04 -1.1018471e+00 -1.6324412e+00  9.0106654e-01\n",
      "   8.4775287e-01 -1.2490907e+00  5.1990002e+02]\n",
      " [ 5.1112000e+04 -9.8487759e+00  7.3655467e+00 -1.2898539e+01\n",
      "   4.2733231e+00 -7.6119909e+00  9.9989998e+01]\n",
      " [ 4.1353000e+04 -1.5020981e+01  8.0752401e+00 -1.6298090e+01\n",
      "   5.6648202e+00 -1.1918154e+01  3.4119999e+01]\n",
      " [ 1.0159700e+05  9.1311616e-01  1.1453811e+00 -4.6028781e+00\n",
      "   2.0918033e+00 -4.7322387e-01  1.4787000e+02]\n",
      " [ 8.5573000e+04 -1.7567118e+00  3.2665741e+00 -4.1533880e+00\n",
      "   3.9245255e+00 -1.7537719e+00  1.0000000e+00]\n",
      " [ 4.1243000e+04 -1.0940739e+01  6.2615857e+00 -1.4182339e+01\n",
      "   7.1836019e+00 -9.9513636e+00  4.5490002e+01]\n",
      " [ 9.3834000e+04 -3.7656801e+00  5.8907351e+00 -1.0202268e+01\n",
      "   1.0259036e+01 -5.6114483e+00  9.9999998e-03]\n",
      " [ 1.3911700e+05 -3.9759393e+00 -1.2449389e+00 -3.7074137e+00\n",
      "   4.5447721e+00  4.0506754e+00  8.3000002e+00]\n",
      " [ 1.1629000e+04 -3.8911920e+00  7.0989161e+00 -1.1426467e+01\n",
      "   8.6075563e+00 -2.0657063e+00  1.0000000e+00]\n",
      " [ 1.4750100e+05 -1.6118773e+00 -4.0840992e-01 -3.8297617e+00\n",
      "   6.2494617e+00 -3.3609216e+00  9.9627002e+02]\n",
      " [ 8.6376000e+04 -6.7023814e-01  9.4520634e-01  6.1005062e-01\n",
      "   2.6400652e+00 -2.7077746e+00  3.2376999e+02]\n",
      " [ 1.6089500e+05 -8.4829021e-01  2.7198820e+00 -6.1990700e+00\n",
      "   3.0444372e+00 -3.3019094e+00  1.2714000e+02]\n",
      " [ 2.0011000e+04 -1.4724627e+01  7.8751569e+00 -2.1872318e+01\n",
      "   1.1906170e+01 -8.3487339e+00  1.0000000e+00]\n",
      " [ 3.9729000e+04 -9.6456730e-01 -1.6435406e+00 -1.8772686e-01\n",
      "   1.1582531e+00 -2.4583356e+00  7.7683002e+02]\n",
      " [ 1.5205800e+05 -3.5763619e+00  3.2994363e+00 -7.4604330e+00\n",
      "   7.7836342e+00 -3.9854866e-01  1.0000000e+00]\n",
      " [ 4.0742000e+04 -2.3775327e+00  5.2053934e-01 -8.0941391e+00\n",
      "   8.0053511e+00  2.6407502e+00  1.0000000e+00]\n",
      " [ 6.2467000e+04 -5.3446655e+00 -2.8576040e-01 -3.8356159e+00\n",
      "   5.3370481e+00 -7.6099086e+00  1.4021600e+03]\n",
      " [ 1.3323000e+04 -5.4543619e+00  8.2874203e+00 -1.2752811e+01\n",
      "   8.5943422e+00 -3.1060023e+00  1.0000000e+00]\n",
      " [ 2.0931000e+04 -1.6367924e+01  9.2236919e+00 -2.3270630e+01\n",
      "   1.1844776e+01 -9.4620371e+00  1.0000000e+00]\n",
      " [ 5.8222000e+04 -1.3227891e+00  1.5527682e+00 -2.2769208e+00\n",
      "   2.9921174e+00 -1.9470639e+00  2.7000000e+02]]\n"
     ]
    }
   ],
   "source": [
    "positives = X_test[y_test == 1]\n",
    "positives_scores = predict_rcf(rcf_predictor, positives)\n",
    "print(positives)\n",
    "\n",
    "\n",
    "negatives = X_test[y_test == 0]\n",
    "negatives_scores = predict_rcf(rcf_predictor, negatives)"
   ]
  },
  {
   "cell_type": "code",
   "execution_count": 121,
   "metadata": {
    "pycharm": {
     "name": "#%%\n"
    }
   },
   "outputs": [
    {
     "data": {
      "text/plain": [
       "<matplotlib.legend.Legend at 0x7f80f7f79d30>"
      ]
     },
     "execution_count": 121,
     "metadata": {},
     "output_type": "execute_result"
    },
    {
     "data": {
      "image/png": "[encoded data removed]",
      "text/plain": [
       "<Figure size 432x288 with 1 Axes>"
      ]
     },
     "metadata": {},
     "output_type": "display_data"
    }
   ],
   "source": [
    "import seaborn as sns\n",
    "sns.distplot(positives_scores, label='fraud', bins=20)\n",
    "sns.distplot(negatives_scores, label='not-fraud', bins=20)\n",
    "plt.legend()"
   ]
  },
  {
   "cell_type": "markdown",
   "metadata": {},
   "source": [
    "The unsupervised model already can achieve some separation between the classes, with higher anomaly scores being correlated to fraud."
   ]
  },
  {
   "cell_type": "markdown",
   "metadata": {},
   "source": [
    "## Supervised Learning"
   ]
  },
  {
   "cell_type": "code",
   "execution_count": 191,
   "metadata": {},
   "outputs": [],
   "source": [
    "import seaborn as sns\n",
    "import matplotlib.pyplot as plt\n",
    "sns.set(color_codes=True)"
   ]
  },
  {
   "cell_type": "markdown",
   "metadata": {},
   "source": [
    "Once we have gathered an adequate amount of labeled training data, we can use a supervised learning algorithm that discovers relationships between the features and the dependent class.\n",
    "\n",
    "We will use Gradient Boosted Trees as our model, as they have a proven track record, are highly scalable and can deal with missing data, reducing the need to pre-process datasets."
   ]
  },
  {
   "cell_type": "markdown",
   "metadata": {},
   "source": [
    "### Prepare Data and Upload to S3"
   ]
  },
  {
   "cell_type": "markdown",
   "metadata": {
    "pycharm": {
     "name": "#%% md\n"
    }
   },
   "source": [
    "First we copy the data to an in-memory buffer."
   ]
  },
  {
   "cell_type": "code",
   "execution_count": 192,
   "metadata": {
    "pycharm": {
     "name": "#%%\n"
    }
   },
   "outputs": [],
   "source": [
    "import io\n",
    "import sklearn\n",
    "from sklearn.datasets import dump_svmlight_file   \n",
    "\n",
    "buf = io.BytesIO()\n",
    "\n",
    "sklearn.datasets.dump_svmlight_file(X_train, y_train, buf)\n",
    "buf.seek(0);"
   ]
  },
  {
   "cell_type": "markdown",
   "metadata": {
    "pycharm": {
     "name": "#%% md\n"
    }
   },
   "source": [
    "Now we upload the data to S3 using boto3."
   ]
  },
  {
   "cell_type": "code",
   "execution_count": 193,
   "metadata": {
    "pycharm": {
     "name": "#%%\n"
    }
   },
   "outputs": [
    {
     "name": "stdout",
     "output_type": "stream",
     "text": [
      "Uploaded training data location: s3://bucketfraud/fraud-classifier/train/base/fraud-dataset\n",
      "Training artifacts will be uploaded to: s3://bucketfraud/fraud-classifier/output\n"
     ]
    }
   ],
   "source": [
    "key = 'fraud-dataset'\n",
    "subdir = 'base'\n",
    "\n",
    "boto3.resource('s3').Bucket(bucket).Object(os.path.join(prefix, 'train', subdir, key)).upload_fileobj(buf)\n",
    "\n",
    "s3_train_data = 's3://{}/{}/train/{}/{}'.format(bucket, prefix, subdir, key)\n",
    "print('Uploaded training data location: {}'.format(s3_train_data))\n",
    "\n",
    "output_location = 's3://{}/{}/output'.format(bucket, prefix)\n",
    "print('Training artifacts will be uploaded to: {}'.format(output_location))"
   ]
  },
  {
   "cell_type": "markdown",
   "metadata": {
    "pycharm": {
     "name": "#%% md\n"
    }
   },
   "source": [
    "We can now train using SageMaker's built-in XGBoost algorithm. To specify the XGBoost algorithm, we use a utility function to obtain its URI. A complete list of built-in algorithms is found here: https://docs.aws.amazon.com/sagemaker/latest/dg/algos.html"
   ]
  },
  {
   "cell_type": "code",
   "execution_count": 194,
   "metadata": {
    "pycharm": {
     "name": "#%%\n"
    }
   },
   "outputs": [
    {
     "name": "stderr",
     "output_type": "stream",
     "text": [
      "The method get_image_uri has been renamed in sagemaker>=2.\n",
      "See: https://sagemaker.readthedocs.io/en/stable/v2.html for details.\n"
     ]
    }
   ],
   "source": [
    "from sagemaker.amazon.amazon_estimator import get_image_uri\n",
    "\n",
    "container = get_image_uri(boto3.Session().region_name, 'xgboost', repo_version='1.0-1')"
   ]
  },
  {
   "cell_type": "markdown",
   "metadata": {
    "pycharm": {
     "name": "#%% md\n"
    }
   },
   "source": [
    "SageMaker abstracts training via Estimators. We can pass the classifier and parameters along with hyperparameters to the estimator, and fit the estimator to the data in S3. An important parameter here is `scale_pos_weight` which scales the weights of the positive vs. negative class examples. This is crucial to do in an imbalanced dataset like the one we are using here, otherwise the majority class would dominate the learning."
   ]
  },
  {
   "cell_type": "code",
   "execution_count": 195,
   "metadata": {
    "pycharm": {
     "name": "#%%\n"
    },
    "scrolled": true
   },
   "outputs": [],
   "source": [
    "from math import sqrt\n",
    "from sagemaker import get_execution_role\n",
    "\n",
    "# Because the data set is so highly skewed, we set the scale position weight conservatively,\n",
    "# as sqrt(num_nonfraud/num_fraud).\n",
    "# Other recommendations for the scale_pos_weight are setting it to (num_nonfraud/num_fraud).\n",
    "scale_pos_weight = sqrt(np.count_nonzero(y_train==0)/np.count_nonzero(y_train))\n",
    "hyperparams = {\n",
    "    \"max_depth\":5,\n",
    "    \"subsample\":0.8,\n",
    "    \"num_round\":100,\n",
    "    \"eta\":0.2,\n",
    "    \"gamma\":4,\n",
    "    \"min_child_weight\":6,\n",
    "    \"silent\":0,\n",
    "    \"objective\":'binary:logistic',\n",
    "    \"eval_metric\":'auc',\n",
    "    \"scale_pos_weight\": scale_pos_weight\n",
    "}"
   ]
  },
  {
   "cell_type": "markdown",
   "metadata": {},
   "source": [
    "Let us explain the hyper-parameters used above. The one that's very relevant for learning from skewed data is `scale_pos_weight`. This is a ratio that weighs the examples of the positive class (fraud) against the negative class (legitimate). Commonly this is set to `(num_nonfraud/num_fraud)`, but our data is exteremely skewed so we will set it to `sqrt(num_nonfraud/num_fraud)`.  For the data in this example, this would be `sqrt(284,807/492)` which would give our fraud examples a weight of ~24.\n",
    "\n",
    "The rest of the hyper-parameters are as follows:\n",
    "\n",
    "* `max_depth`: This is the maximum depth of the trees that will be built for our ensemble. A max depth of 5 will give us trees with up to 32 leaves. Note that tree size grows exponentially when increasing this parameter (`num_leaves=2^max_depth`), so a max depth of 10 would give us trees with 1024 leaves, which are likely to overfit.\n",
    "* `subsample`: The subsample ratio that we use to select a subset of the complete data to train each tree in the ensemble. With a value of 0.8, each tree is trained on a random sample containing 80% of the complete data. This is used to prevent overfitting.\n",
    "* `num_round`: This is the size of the ensemble. We will for 100 \"rounds\", each training round adding a new tree to the ensemble.\n",
    "* `eta`: This is the step size shrinkage applied at each update. This value will shrink the weights of new features to prevent overfitting.\n",
    "* `gamma`: This is the minimum loss reduction to reach before splitting a leaf. Splitting a leaf can sometimes have a small benefit, and splitting such leaves can lead to overfitting. By setting `gamma` to values larger than zero, we ensure that there should be at least some non-negligible amount of accuracy gain before splitting a leaf.\n",
    "* `min_child_weight`: This parameter has a similar effect to gamma, setting it to higher values means we'll wait until enough gain will be possible before splitting a leaf.\n",
    "* `objective`: We are doing binary classification, so we use a logistic loss objective.\n",
    "* `eval_metric`: Having a good evaluation metric is crucial when dealing with imbalanced data (see discussion below). We use AUC here."
   ]
  },
  {
   "cell_type": "code",
   "execution_count": 196,
   "metadata": {},
   "outputs": [
    {
     "name": "stderr",
     "output_type": "stream",
     "text": [
      "train_instance_count has been renamed in sagemaker>=2.\n",
      "See: https://sagemaker.readthedocs.io/en/stable/v2.html for details.\n",
      "train_instance_type has been renamed in sagemaker>=2.\n",
      "See: https://sagemaker.readthedocs.io/en/stable/v2.html for details.\n"
     ]
    }
   ],
   "source": [
    "clf = sagemaker.estimator.Estimator(container,\n",
    "                                    get_execution_role(),\n",
    "                                    hyperparameters=hyperparams,\n",
    "                                    train_instance_count=1, \n",
    "                                    train_instance_type='ml.m4.xlarge',\n",
    "                                    output_path=output_location,\n",
    "                                    sagemaker_session=session,\n",
    "                                    #base_job_name=\"{}-xgb\".format(config.SOLUTION_PREFIX)\n",
    "                                   )"
   ]
  },
  {
   "cell_type": "markdown",
   "metadata": {},
   "source": [
    "We can now fit our supervised training model, the call to fit below should take around 5 minutes to complete."
   ]
  },
  {
   "cell_type": "code",
   "execution_count": 197,
   "metadata": {
    "pycharm": {
     "name": "#%%\n"
    }
   },
   "outputs": [
    {
     "name": "stdout",
     "output_type": "stream",
     "text": [
      "2020-12-21 03:49:05 Starting - Starting the training job...\n",
      "2020-12-21 03:49:28 Starting - Launching requested ML instancesProfilerReport-1608522545: InProgress\n",
      "......\n",
      "2020-12-21 03:50:29 Starting - Preparing the instances for training......\n",
      "2020-12-21 03:51:33 Downloading - Downloading input data...\n",
      "2020-12-21 03:51:50 Training - Downloading the training image...\n",
      "2020-12-21 03:52:31 Training - Training image download completed. Training in progress.\u001b[34mINFO:sagemaker-containers:Imported framework sagemaker_xgboost_container.training\u001b[0m\n",
      "\u001b[34mINFO:sagemaker-containers:Failed to parse hyperparameter eval_metric value auc to Json.\u001b[0m\n",
      "\u001b[34mReturning the value itself\u001b[0m\n",
      "\u001b[34mINFO:sagemaker-containers:Failed to parse hyperparameter objective value binary:logistic to Json.\u001b[0m\n",
      "\u001b[34mReturning the value itself\u001b[0m\n",
      "\u001b[34mINFO:sagemaker-containers:No GPUs detected (normal if no gpus installed)\u001b[0m\n",
      "\u001b[34mINFO:sagemaker_xgboost_container.training:Running XGBoost Sagemaker in algorithm mode\u001b[0m\n",
      "\u001b[34m[03:52:20] 184808x7 matrix with 1292490 entries loaded from /opt/ml/input/data/train\u001b[0m\n",
      "\u001b[34mINFO:root:Single node training.\u001b[0m\n",
      "\u001b[34mINFO:root:Train matrix has 184808 rows\u001b[0m\n",
      "\u001b[34m[0]#011train-auc:0.94294\u001b[0m\n",
      "\u001b[34m[1]#011train-auc:0.96004\u001b[0m\n",
      "\u001b[34m[2]#011train-auc:0.95999\u001b[0m\n",
      "\u001b[34m[3]#011train-auc:0.96086\u001b[0m\n",
      "\u001b[34m[4]#011train-auc:0.96521\u001b[0m\n",
      "\u001b[34m[5]#011train-auc:0.96815\u001b[0m\n",
      "\u001b[34m[6]#011train-auc:0.96904\u001b[0m\n",
      "\u001b[34m[7]#011train-auc:0.97031\u001b[0m\n",
      "\u001b[34m[8]#011train-auc:0.97447\u001b[0m\n",
      "\u001b[34m[9]#011train-auc:0.97756\u001b[0m\n",
      "\u001b[34m[10]#011train-auc:0.98208\u001b[0m\n",
      "\u001b[34m[11]#011train-auc:0.98418\u001b[0m\n",
      "\u001b[34m[12]#011train-auc:0.98451\u001b[0m\n",
      "\u001b[34m[13]#011train-auc:0.98869\u001b[0m\n",
      "\u001b[34m[14]#011train-auc:0.99225\u001b[0m\n",
      "\u001b[34m[15]#011train-auc:0.99359\u001b[0m\n",
      "\u001b[34m[16]#011train-auc:0.99527\u001b[0m\n",
      "\u001b[34m[17]#011train-auc:0.99546\u001b[0m\n",
      "\u001b[34m[18]#011train-auc:0.99567\u001b[0m\n",
      "\u001b[34m[19]#011train-auc:0.99656\u001b[0m\n",
      "\u001b[34m[20]#011train-auc:0.99687\u001b[0m\n",
      "\u001b[34m[21]#011train-auc:0.99798\u001b[0m\n",
      "\u001b[34m[22]#011train-auc:0.99856\u001b[0m\n",
      "\u001b[34m[23]#011train-auc:0.99881\u001b[0m\n",
      "\u001b[34m[24]#011train-auc:0.99895\u001b[0m\n",
      "\u001b[34m[25]#011train-auc:0.99898\u001b[0m\n",
      "\u001b[34m[26]#011train-auc:0.99903\u001b[0m\n",
      "\u001b[34m[27]#011train-auc:0.99917\u001b[0m\n",
      "\u001b[34m[28]#011train-auc:0.99922\u001b[0m\n",
      "\u001b[34m[29]#011train-auc:0.99926\u001b[0m\n",
      "\u001b[34m[30]#011train-auc:0.99940\u001b[0m\n",
      "\u001b[34m[31]#011train-auc:0.99943\u001b[0m\n",
      "\u001b[34m[32]#011train-auc:0.99949\u001b[0m\n",
      "\u001b[34m[33]#011train-auc:0.99950\u001b[0m\n",
      "\u001b[34m[34]#011train-auc:0.99953\u001b[0m\n",
      "\u001b[34m[35]#011train-auc:0.99960\u001b[0m\n",
      "\u001b[34m[36]#011train-auc:0.99962\u001b[0m\n",
      "\u001b[34m[37]#011train-auc:0.99965\u001b[0m\n",
      "\u001b[34m[38]#011train-auc:0.99969\u001b[0m\n",
      "\u001b[34m[39]#011train-auc:0.99973\u001b[0m\n",
      "\u001b[34m[40]#011train-auc:0.99975\u001b[0m\n",
      "\u001b[34m[41]#011train-auc:0.99975\u001b[0m\n",
      "\u001b[34m[42]#011train-auc:0.99977\u001b[0m\n",
      "\u001b[34m[43]#011train-auc:0.99978\u001b[0m\n",
      "\u001b[34m[44]#011train-auc:0.99980\u001b[0m\n",
      "\u001b[34m[45]#011train-auc:0.99981\u001b[0m\n",
      "\u001b[34m[46]#011train-auc:0.99982\u001b[0m\n",
      "\u001b[34m[47]#011train-auc:0.99983\u001b[0m\n",
      "\u001b[34m[48]#011train-auc:0.99984\u001b[0m\n",
      "\u001b[34m[49]#011train-auc:0.99985\u001b[0m\n",
      "\u001b[34m[50]#011train-auc:0.99986\u001b[0m\n",
      "\u001b[34m[51]#011train-auc:0.99987\u001b[0m\n",
      "\u001b[34m[52]#011train-auc:0.99987\u001b[0m\n",
      "\u001b[34m[53]#011train-auc:0.99987\u001b[0m\n",
      "\u001b[34m[54]#011train-auc:0.99988\u001b[0m\n",
      "\u001b[34m[55]#011train-auc:0.99989\u001b[0m\n",
      "\u001b[34m[56]#011train-auc:0.99989\u001b[0m\n",
      "\u001b[34m[57]#011train-auc:0.99989\u001b[0m\n",
      "\u001b[34m[58]#011train-auc:0.99989\u001b[0m\n",
      "\u001b[34m[59]#011train-auc:0.99990\u001b[0m\n",
      "\u001b[34m[60]#011train-auc:0.99991\u001b[0m\n",
      "\u001b[34m[61]#011train-auc:0.99991\u001b[0m\n",
      "\u001b[34m[62]#011train-auc:0.99991\u001b[0m\n",
      "\u001b[34m[63]#011train-auc:0.99991\u001b[0m\n",
      "\u001b[34m[64]#011train-auc:0.99992\u001b[0m\n",
      "\u001b[34m[65]#011train-auc:0.99993\u001b[0m\n",
      "\u001b[34m[66]#011train-auc:0.99993\u001b[0m\n",
      "\u001b[34m[67]#011train-auc:0.99994\u001b[0m\n",
      "\u001b[34m[68]#011train-auc:0.99994\u001b[0m\n",
      "\u001b[34m[69]#011train-auc:0.99994\u001b[0m\n",
      "\u001b[34m[70]#011train-auc:0.99994\u001b[0m\n",
      "\u001b[34m[71]#011train-auc:0.99994\u001b[0m\n",
      "\u001b[34m[72]#011train-auc:0.99995\u001b[0m\n",
      "\u001b[34m[73]#011train-auc:0.99995\u001b[0m\n",
      "\u001b[34m[74]#011train-auc:0.99995\u001b[0m\n",
      "\u001b[34m[75]#011train-auc:0.99995\u001b[0m\n",
      "\u001b[34m[76]#011train-auc:0.99996\u001b[0m\n",
      "\u001b[34m[77]#011train-auc:0.99996\u001b[0m\n",
      "\u001b[34m[78]#011train-auc:0.99996\u001b[0m\n",
      "\u001b[34m[79]#011train-auc:0.99996\u001b[0m\n",
      "\u001b[34m[80]#011train-auc:0.99996\u001b[0m\n",
      "\u001b[34m[81]#011train-auc:0.99996\u001b[0m\n",
      "\u001b[34m[82]#011train-auc:0.99996\u001b[0m\n",
      "\u001b[34m[83]#011train-auc:0.99996\u001b[0m\n",
      "\u001b[34m[84]#011train-auc:0.99997\u001b[0m\n",
      "\u001b[34m[85]#011train-auc:0.99997\u001b[0m\n",
      "\u001b[34m[86]#011train-auc:0.99997\u001b[0m\n",
      "\u001b[34m[87]#011train-auc:0.99997\u001b[0m\n",
      "\u001b[34m[88]#011train-auc:0.99997\u001b[0m\n",
      "\u001b[34m[89]#011train-auc:0.99997\u001b[0m\n",
      "\u001b[34m[90]#011train-auc:0.99997\u001b[0m\n",
      "\u001b[34m[91]#011train-auc:0.99997\u001b[0m\n",
      "\u001b[34m[92]#011train-auc:0.99997\u001b[0m\n",
      "\u001b[34m[93]#011train-auc:0.99997\u001b[0m\n",
      "\u001b[34m[94]#011train-auc:0.99997\u001b[0m\n",
      "\u001b[34m[95]#011train-auc:0.99997\u001b[0m\n",
      "\u001b[34m[96]#011train-auc:0.99997\u001b[0m\n",
      "\u001b[34m[97]#011train-auc:0.99997\u001b[0m\n",
      "\u001b[34m[98]#011train-auc:0.99997\u001b[0m\n",
      "\u001b[34m[99]#011train-auc:0.99997\u001b[0m\n",
      "\n",
      "2020-12-21 03:52:51 Uploading - Uploading generated training model\n",
      "2020-12-21 03:52:51 Completed - Training job completed\n",
      "Training seconds: 74\n",
      "Billable seconds: 74\n"
     ]
    }
   ],
   "source": [
    "clf.fit({'train': s3_train_data})"
   ]
  },
  {
   "cell_type": "markdown",
   "metadata": {
    "pycharm": {
     "name": "#%% md\n"
    }
   },
   "source": [
    "### Host Classifier"
   ]
  },
  {
   "cell_type": "markdown",
   "metadata": {
    "pycharm": {
     "name": "#%% md\n"
    }
   },
   "source": [
    "Now we deploy the estimator to and endpoint. As before progress will be indicated by `-`, and the deployment should be done after 10 minutes."
   ]
  },
  {
   "cell_type": "code",
   "execution_count": 198,
   "metadata": {
    "pycharm": {
     "name": "#%%\n"
    }
   },
   "outputs": [
    {
     "name": "stdout",
     "output_type": "stream",
     "text": [
      "-------------!"
     ]
    }
   ],
   "source": [
    "from sagemaker.predictor import csv_serializer\n",
    "\n",
    "predictor = clf.deploy(initial_instance_count=1,\n",
    "                       #model_name=\"{}-xgb\".format(config.SOLUTION_PREFIX),\n",
    "                      # endpoint_name=\"{}-xgb\".format(config.SOLUTION_PREFIX),\n",
    "                       instance_type='ml.m4.xlarge', \n",
    "                       serializer=csv_serializer)\n",
    "                       \n",
    "                       #content_type=\"text/csv\")"
   ]
  },
  {
   "cell_type": "markdown",
   "metadata": {
    "pycharm": {
     "name": "#%% md\n"
    }
   },
   "source": [
    "## Evaluation"
   ]
  },
  {
   "cell_type": "markdown",
   "metadata": {},
   "source": [
    "Once we have trained the model we can use it to make predictions for the test set."
   ]
  },
  {
   "cell_type": "code",
   "execution_count": 199,
   "metadata": {
    "pycharm": {
     "name": "#%%\n"
    }
   },
   "outputs": [],
   "source": [
    "# Because we have a large test set, we call predict on smaller batches\n",
    "def predict(current_predictor, data, rows=500):\n",
    "    split_array = np.array_split(data, int(data.shape[0] / float(rows) + 1))\n",
    "    predictions = ''\n",
    "    for array in split_array:\n",
    "        predictions = ','.join([predictions, current_predictor.predict(array).decode('utf-8')])\n",
    "\n",
    "    return np.fromstring(predictions[1:], sep=',')"
   ]
  },
  {
   "cell_type": "code",
   "execution_count": 241,
   "metadata": {},
   "outputs": [
    {
     "name": "stdout",
     "output_type": "stream",
     "text": [
      "[9.97407019e-01 6.65238404e-05 3.54674557e-05 ... 3.65257118e-04\n",
      " 3.22439882e-04 3.54426709e-04]\n"
     ]
    }
   ],
   "source": [
    "predictor.serializer = CSVSerializer()\n",
    "raw_preds = predict(predictor, X_test)\n",
    "print(raw_preds)"
   ]
  },
  {
   "cell_type": "markdown",
   "metadata": {
    "pycharm": {
     "name": "#%% md\n"
    }
   },
   "source": [
    "We will use a few measures from the scikit-learn package to evaluate the performance of our model. When dealing with an imbalanced dataset, we need to choose metrics that take into account the frequency of each class in the data.\n",
    "\n",
    "Two such metrics are the [balanced accuracy score](https://scikit-learn.org/stable/modules/model_evaluation.html#balanced-accuracy-score), and [Cohen's Kappa](https://scikit-learn.org/stable/modules/model_evaluation.html#cohen-s-kappa)."
   ]
  },
  {
   "cell_type": "code",
   "execution_count": 232,
   "metadata": {},
   "outputs": [
    {
     "name": "stdout",
     "output_type": "stream",
     "text": [
      "Balanced accuracy = 0.8413695092882768\n",
      "Cohen's Kappa = 0.6869992132959557\n",
      "99789 49 51 110\n"
     ]
    }
   ],
   "source": [
    "from sklearn.metrics import balanced_accuracy_score, cohen_kappa_score, confusion_matrix\n",
    "from sklearn.metrics import plot_confusion_matrix,classification_report\n",
    "# scikit-learn expects 0/1 predictions, so we threshold our raw predictions\n",
    "y_preds = np.where(raw_preds > 0.5,1, 0)\n",
    "print(\"Balanced accuracy = {}\".format(balanced_accuracy_score(y_test, y_preds)))\n",
    "print(\"Cohen's Kappa = {}\".format(cohen_kappa_score(y_test, y_preds)))\n",
    "confusion_matrix(y_test, y_preds)\n",
    "tn, fp, fn, tp = confusion_matrix(y_test, y_preds).ravel()\n",
    "print(tn, fp, fn, tp)\n",
    "\n"
   ]
  },
  {
   "cell_type": "code",
   "execution_count": 233,
   "metadata": {},
   "outputs": [
    {
     "data": {
      "text/plain": [
       "{'0.0': {'precision': 0.9994891826923077,\n",
       "  'recall': 0.9995092049119574,\n",
       "  'f1-score': 0.99949919370186,\n",
       "  'support': 99838},\n",
       " '1.0': {'precision': 0.6918238993710691,\n",
       "  'recall': 0.6832298136645962,\n",
       "  'f1-score': 0.6874999999999999,\n",
       "  'support': 161},\n",
       " 'accuracy': 0.9989999899999,\n",
       " 'macro avg': {'precision': 0.8456565410316884,\n",
       "  'recall': 0.8413695092882768,\n",
       "  'f1-score': 0.84349959685093,\n",
       "  'support': 99999},\n",
       " 'weighted avg': {'precision': 0.9989938366326998,\n",
       "  'recall': 0.9989999899999,\n",
       "  'f1-score': 0.9989968699767627,\n",
       "  'support': 99999}}"
      ]
     },
     "execution_count": 233,
     "metadata": {},
     "output_type": "execute_result"
    }
   ],
   "source": [
    "sklearn.metrics.classification_report(y_test, y_preds, output_dict=True)"
   ]
  },
  {
   "cell_type": "code",
   "execution_count": 227,
   "metadata": {},
   "outputs": [
    {
     "name": "stdout",
     "output_type": "stream",
     "text": [
      "Counter({0: 99789, 1: 210})\n"
     ]
    }
   ],
   "source": [
    "import collections\n",
    "counter=collections.Counter(y_preds)\n",
    "print(counter)"
   ]
  },
  {
   "cell_type": "markdown",
   "metadata": {},
   "source": [
    "We can already see that our model performs very well in terms of both metrics, Cohen's Kappa scores above 0.8 are generally very favorable."
   ]
  },
  {
   "cell_type": "markdown",
   "metadata": {},
   "source": [
    "Apart from single-value metrics, it's also useful to look at metrics that indicate performance per class. A confusion matrix, and per-class precision, recall and f1-score can also provide more information about the model's performance."
   ]
  },
  {
   "cell_type": "markdown",
   "metadata": {},
   "source": [
    "\n",
    "## Data Acknowledgements\n",
    "\n",
    "The dataset used to demonstrated the fraud detection solution has been collected and analysed during a research collaboration of Worldline and the Machine Learning Group (http://mlg.ulb.ac.be) of ULB (Université Libre de Bruxelles) on big data mining and fraud detection. More details on current and past projects on related topics are available on https://www.researchgate.net/project/Fraud-detection-5 and the page of the [DefeatFraud](https://mlg.ulb.ac.be/wordpress/portfolio_page/defeatfraud-assessment-and-validation-of-deep-feature-engineering-and-learning-solutions-for-fraud-detection/) project\n",
    "We cite the following works:\n",
    "* Andrea Dal Pozzolo, Olivier Caelen, Reid A. Johnson and Gianluca Bontempi. Calibrating Probability with Undersampling for Unbalanced Classification. In Symposium on Computational Intelligence and Data Mining (CIDM), IEEE, 2015\n",
    "* Dal Pozzolo, Andrea; Caelen, Olivier; Le Borgne, Yann-Ael; Waterschoot, Serge; Bontempi, Gianluca. Learned lessons in credit card fraud detection from a practitioner perspective, Expert systems with applications,41,10,4915-4928,2014, Pergamon\n",
    "* Dal Pozzolo, Andrea; Boracchi, Giacomo; Caelen, Olivier; Alippi, Cesare; Bontempi, Gianluca. Credit card fraud detection: a realistic modeling and a novel learning strategy, IEEE transactions on neural networks and learning systems,29,8,3784-3797,2018,IEEE\n",
    "* Dal Pozzolo, Andrea Adaptive Machine learning for credit card fraud detection ULB MLG PhD thesis (supervised by G. Bontempi)\n",
    "* Carcillo, Fabrizio; Dal Pozzolo, Andrea; Le Borgne, Yann-Aël; Caelen, Olivier; Mazzer, Yannis; Bontempi, Gianluca. Scarff: a scalable framework for streaming credit card fraud detection with Spark, Information fusion,41, 182-194,2018,Elsevier\n",
    "* Carcillo, Fabrizio; Le Borgne, Yann-Aël; Caelen, Olivier; Bontempi, Gianluca. Streaming active learning strategies for real-life credit card fraud detection: assessment and visualization, International Journal of Data Science and Analytics, 5,4,285-300,2018,Springer International Publishing"
   ]
  },
  {
   "cell_type": "code",
   "execution_count": null,
   "metadata": {},
   "outputs": [],
   "source": []
  }
 ],
 "metadata": {
  "kernelspec": {
   "display_name": "conda_python3",
   "language": "python",
   "name": "conda_python3"
  },
  "language_info": {
   "codemirror_mode": {
    "name": "ipython",
    "version": 3
   },
   "file_extension": ".py",
   "mimetype": "text/x-python",
   "name": "python",
   "nbconvert_exporter": "python",
   "pygments_lexer": "ipython3",
   "version": "3.6.10"
  }
 },
 "nbformat": 4,
 "nbformat_minor": 4
}
